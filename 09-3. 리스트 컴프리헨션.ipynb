{
 "cells": [
  {
   "cell_type": "code",
   "execution_count": 10,
   "id": "f2a39b4c-a98b-4cb8-a26f-dda1f532fcfb",
   "metadata": {},
   "outputs": [],
   "source": [
    "# 101p"
   ]
  },
  {
   "cell_type": "markdown",
   "id": "9f419cc5-cd26-4490-8fba-b51374ae2fab",
   "metadata": {},
   "source": [
    "### 리스트 안의 각 원소들에 대해 하나씩 연산을 수행"
   ]
  },
  {
   "cell_type": "code",
   "execution_count": 2,
   "id": "596d6a40-60b5-46c1-8dad-d6aa717e53cc",
   "metadata": {},
   "outputs": [
    {
     "name": "stdout",
     "output_type": "stream",
     "text": [
      "[1, 2, 3, 4, 5, 6, 7, 8, 9, 10]\n"
     ]
    }
   ],
   "source": [
    "list1 = list(range(1, 11))  # 그냥 리스트\n",
    "print(list1)"
   ]
  },
  {
   "cell_type": "code",
   "execution_count": 3,
   "id": "b838bdbf-700d-40cc-aa1a-5fce5264f3a7",
   "metadata": {},
   "outputs": [
    {
     "data": {
      "text/plain": [
       "[2, 4, 6, 8, 10, 12, 14, 16, 18, 20]"
      ]
     },
     "execution_count": 3,
     "metadata": {},
     "output_type": "execute_result"
    }
   ],
   "source": [
    "list2 = [i*2 for i in list1]  # 리스트 컴프리헨션\n",
    "list2"
   ]
  },
  {
   "cell_type": "markdown",
   "id": "cde8a068-29c6-45b5-ba10-74e8c28cc82b",
   "metadata": {},
   "source": [
    "### 리스트 안의 원소들을 필터링하여 연산을 수행"
   ]
  },
  {
   "cell_type": "code",
   "execution_count": 6,
   "id": "677810ce-90d5-459c-baf9-107de0737e2e",
   "metadata": {},
   "outputs": [
    {
     "name": "stdout",
     "output_type": "stream",
     "text": [
      "[1, 2, 3, 4, 5, 6, 7, 8, 9, 10]\n"
     ]
    }
   ],
   "source": [
    "list1 = list(range(1, 11))\n",
    "print(list1)"
   ]
  },
  {
   "cell_type": "code",
   "execution_count": 9,
   "id": "a42461d8-f783-49cd-b283-eecd6f90dcdb",
   "metadata": {},
   "outputs": [
    {
     "data": {
      "text/plain": [
       "[1, 9, 25, 49, 81]"
      ]
     },
     "execution_count": 9,
     "metadata": {},
     "output_type": "execute_result"
    }
   ],
   "source": [
    "list3 = [i**2 for i in list1   # 1. 리스트 안의 각 원소들을 제곱한다.\n",
    "         if i % 2 == 1]        # 2. 제곱한 원소들 중 2로 나눈 나머지가 1인 것만 선택한다.\n",
    "list3"
   ]
  },
  {
   "cell_type": "code",
   "execution_count": null,
   "id": "6549d864-b356-468a-a5eb-eefca991ae9b",
   "metadata": {},
   "outputs": [],
   "source": []
  }
 ],
 "metadata": {
  "kernelspec": {
   "display_name": "Python 3",
   "language": "python",
   "name": "python3"
  },
  "language_info": {
   "codemirror_mode": {
    "name": "ipython",
    "version": 3
   },
   "file_extension": ".py",
   "mimetype": "text/x-python",
   "name": "python",
   "nbconvert_exporter": "python",
   "pygments_lexer": "ipython3",
   "version": "3.8.8"
  }
 },
 "nbformat": 4,
 "nbformat_minor": 5
}
