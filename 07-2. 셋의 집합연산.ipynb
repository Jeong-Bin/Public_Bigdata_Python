{
 "cells": [
  {
   "cell_type": "code",
   "execution_count": null,
   "id": "047e6519-39f0-4336-9f35-2135b7dcc437",
   "metadata": {},
   "outputs": [],
   "source": [
    "# 77"
   ]
  },
  {
   "cell_type": "code",
   "execution_count": 2,
   "id": "ca635e61-0230-4b09-bfce-0cf734c8c21c",
   "metadata": {},
   "outputs": [],
   "source": [
    "set1 = {'A', 'B', 'C', 'D', 'E', 'F'}\n",
    "set2 = {'B', 'D', 'G', 'H'}"
   ]
  },
  {
   "cell_type": "markdown",
   "id": "6efaf97c-206d-4f2c-a397-e7c2e0a5ee71",
   "metadata": {},
   "source": [
    "### &  intersection()\n",
    "- 교집합"
   ]
  },
  {
   "cell_type": "code",
   "execution_count": 3,
   "id": "88c77297-494b-472a-82d8-682dda52b10f",
   "metadata": {},
   "outputs": [
    {
     "data": {
      "text/plain": [
       "{'B', 'D'}"
      ]
     },
     "execution_count": 3,
     "metadata": {},
     "output_type": "execute_result"
    }
   ],
   "source": [
    "set1 & set2"
   ]
  },
  {
   "cell_type": "code",
   "execution_count": 4,
   "id": "800a2683-ac89-4817-a78a-d9eff992d81a",
   "metadata": {},
   "outputs": [
    {
     "data": {
      "text/plain": [
       "{'B', 'D'}"
      ]
     },
     "execution_count": 4,
     "metadata": {},
     "output_type": "execute_result"
    }
   ],
   "source": [
    "set1.intersection(set2)"
   ]
  },
  {
   "cell_type": "markdown",
   "id": "492edcea-c22e-482e-ba90-b579413c051f",
   "metadata": {
    "tags": []
   },
   "source": [
    "### |  union()\n",
    "- 합집합"
   ]
  },
  {
   "cell_type": "code",
   "execution_count": 5,
   "id": "4107e5a3-9c44-4edb-8479-a4d0fec77693",
   "metadata": {},
   "outputs": [
    {
     "data": {
      "text/plain": [
       "{'A', 'B', 'C', 'D', 'E', 'F', 'G', 'H'}"
      ]
     },
     "execution_count": 5,
     "metadata": {},
     "output_type": "execute_result"
    }
   ],
   "source": [
    "set1 | set2"
   ]
  },
  {
   "cell_type": "code",
   "execution_count": 6,
   "id": "9644772d-bef5-4256-b99a-492f8dc9de20",
   "metadata": {},
   "outputs": [
    {
     "data": {
      "text/plain": [
       "{'A', 'B', 'C', 'D', 'E', 'F', 'G', 'H'}"
      ]
     },
     "execution_count": 6,
     "metadata": {},
     "output_type": "execute_result"
    }
   ],
   "source": [
    "set1.union(set2)"
   ]
  },
  {
   "cell_type": "markdown",
   "id": "9dabd42b-17c1-4cde-89b8-d391a32c19a2",
   "metadata": {},
   "source": [
    "### -  difference()\n",
    "- 차집합"
   ]
  },
  {
   "cell_type": "code",
   "execution_count": 7,
   "id": "8f69a6e8-e11e-4c74-9faa-3ea941e75ce4",
   "metadata": {},
   "outputs": [
    {
     "data": {
      "text/plain": [
       "{'A', 'C', 'E', 'F'}"
      ]
     },
     "execution_count": 7,
     "metadata": {},
     "output_type": "execute_result"
    }
   ],
   "source": [
    "set1 - set2"
   ]
  },
  {
   "cell_type": "code",
   "execution_count": 8,
   "id": "8d2441c0-f9e4-4de1-901d-4db68e8f40e8",
   "metadata": {},
   "outputs": [
    {
     "data": {
      "text/plain": [
       "{'A', 'C', 'E', 'F'}"
      ]
     },
     "execution_count": 8,
     "metadata": {},
     "output_type": "execute_result"
    }
   ],
   "source": [
    "set1.difference(set2)"
   ]
  },
  {
   "cell_type": "markdown",
   "id": "81ca7a1f-6267-48ea-b69c-12eed9bd59a4",
   "metadata": {},
   "source": [
    "### ^  symmetric_difference()\n",
    "- 대칭차집합 = 합집합-교집합"
   ]
  },
  {
   "cell_type": "code",
   "execution_count": 9,
   "id": "dd28ce66-2ce6-4bcb-8000-aabb489c34cb",
   "metadata": {},
   "outputs": [
    {
     "data": {
      "text/plain": [
       "{'A', 'C', 'E', 'F', 'G', 'H'}"
      ]
     },
     "execution_count": 9,
     "metadata": {},
     "output_type": "execute_result"
    }
   ],
   "source": [
    "set1 ^ set2"
   ]
  },
  {
   "cell_type": "code",
   "execution_count": 10,
   "id": "1697e30f-83b2-4099-b42a-31acf18f522f",
   "metadata": {},
   "outputs": [
    {
     "data": {
      "text/plain": [
       "{'A', 'C', 'E', 'F', 'G', 'H'}"
      ]
     },
     "execution_count": 10,
     "metadata": {},
     "output_type": "execute_result"
    }
   ],
   "source": [
    "set1.symmetric_difference(set2)"
   ]
  },
  {
   "cell_type": "code",
   "execution_count": null,
   "id": "9791c8f6-d82b-4f50-96b1-b580a26ae147",
   "metadata": {},
   "outputs": [],
   "source": []
  }
 ],
 "metadata": {
  "kernelspec": {
   "display_name": "Python 3",
   "language": "python",
   "name": "python3"
  },
  "language_info": {
   "codemirror_mode": {
    "name": "ipython",
    "version": 3
   },
   "file_extension": ".py",
   "mimetype": "text/x-python",
   "name": "python",
   "nbconvert_exporter": "python",
   "pygments_lexer": "ipython3",
   "version": "3.8.8"
  }
 },
 "nbformat": 4,
 "nbformat_minor": 5
}
