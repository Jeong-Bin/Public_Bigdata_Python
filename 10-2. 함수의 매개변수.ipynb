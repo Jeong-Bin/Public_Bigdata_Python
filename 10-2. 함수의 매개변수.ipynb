{
 "cells": [
  {
   "cell_type": "code",
   "execution_count": 1,
   "id": "3d4a59ee-c9d4-40d4-8b86-9f05aa53d2e6",
   "metadata": {},
   "outputs": [],
   "source": [
    "# 109"
   ]
  },
  {
   "cell_type": "markdown",
   "id": "0405ab5f-8bfe-4842-a61b-8147e9a84249",
   "metadata": {},
   "source": [
    "### 매개변수 기본값"
   ]
  },
  {
   "cell_type": "code",
   "execution_count": 2,
   "id": "cdee609a-c9a5-44e7-887d-bceedfd24aef",
   "metadata": {},
   "outputs": [],
   "source": [
    "def square2(x=2, y=3):  # 매개변수를 지정하면 이게 기본값이 됨\n",
    "    x = x ** 2\n",
    "    y = y ** 2\n",
    "    return x, y"
   ]
  },
  {
   "cell_type": "code",
   "execution_count": 3,
   "id": "8cee5acb-47b2-4e68-b185-a6759970ffd9",
   "metadata": {},
   "outputs": [
    {
     "data": {
      "text/plain": [
       "(4, 9)"
      ]
     },
     "execution_count": 3,
     "metadata": {},
     "output_type": "execute_result"
    }
   ],
   "source": [
    "square2()  # 인자를 비우면 기본 매개변수가 적용됨"
   ]
  },
  {
   "cell_type": "code",
   "execution_count": 5,
   "id": "df5ce51a-f9c9-4d5a-a456-d2ed195ca735",
   "metadata": {},
   "outputs": [
    {
     "data": {
      "text/plain": [
       "(16, 9)"
      ]
     },
     "execution_count": 5,
     "metadata": {},
     "output_type": "execute_result"
    }
   ],
   "source": [
    "square2(4)  # 인자에 1개의 값만 넣었기 때문에 앞에서 첫 번째에 있는 x만 4로 바꿔서 출렫됨"
   ]
  },
  {
   "cell_type": "code",
   "execution_count": 7,
   "id": "79ee7e14-56b0-4c29-8fdd-3c4b009889c0",
   "metadata": {},
   "outputs": [
    {
     "data": {
      "text/plain": [
       "(16, 25)"
      ]
     },
     "execution_count": 7,
     "metadata": {},
     "output_type": "execute_result"
    }
   ],
   "source": [
    "square2(4, 5)  # x=4, y=5로 적용하여 출렴됨"
   ]
  },
  {
   "cell_type": "code",
   "execution_count": null,
   "id": "a69b0b18-f71c-48f1-938e-0da2667bcf3b",
   "metadata": {},
   "outputs": [],
   "source": []
  },
  {
   "cell_type": "markdown",
   "id": "34ce9c29-2468-4e26-9086-361b1aa3aacd",
   "metadata": {},
   "source": [
    "### 매개변수 지정 인자값"
   ]
  },
  {
   "cell_type": "code",
   "execution_count": 8,
   "id": "899602ae-75a1-45c3-902c-0d6f54ffdb3c",
   "metadata": {},
   "outputs": [],
   "source": [
    "def square2(x=2, y=3):\n",
    "    x = x ** 2\n",
    "    y = y ** 2\n",
    "    return x, y"
   ]
  },
  {
   "cell_type": "code",
   "execution_count": 9,
   "id": "642b6d6c-d852-4345-bb86-e30b7987f407",
   "metadata": {},
   "outputs": [
    {
     "data": {
      "text/plain": [
       "(16, 25)"
      ]
     },
     "execution_count": 9,
     "metadata": {},
     "output_type": "execute_result"
    }
   ],
   "source": [
    "square2(y=5, x=4)  # 인자값을 지정해주면 순서 바뀌어도 상관없음"
   ]
  },
  {
   "cell_type": "code",
   "execution_count": null,
   "id": "612627d1-bd99-403c-9d12-d4a61b09e597",
   "metadata": {},
   "outputs": [],
   "source": []
  },
  {
   "cell_type": "markdown",
   "id": "da648f27-811e-4046-98b8-33f95746ac79",
   "metadata": {},
   "source": [
    "### 가변 매개변수\n",
    "- 매개변수 앞에 *를 붙여서 매개변수를 정의\n",
    "- 일반 매개변수 할당 후 나머지 인자는 튜플로 할당\n",
    "- 하나만 사용할 수 있으며, 가장 마지막 순서에 있어야 한다."
   ]
  },
  {
   "cell_type": "code",
   "execution_count": 10,
   "id": "60881d8a-f15b-4845-a1eb-2a6e2a23e380",
   "metadata": {},
   "outputs": [
    {
     "data": {
      "text/plain": [
       "'\\ndef 함수명(a, *b):\\n    print(a, b)\\n'"
      ]
     },
     "execution_count": 10,
     "metadata": {},
     "output_type": "execute_result"
    }
   ],
   "source": [
    "'''\n",
    "def 함수명(a, *b):\n",
    "    print(a, b)\n",
    "'''"
   ]
  },
  {
   "cell_type": "code",
   "execution_count": 11,
   "id": "81441384-663c-47d9-bd70-61008c155ad5",
   "metadata": {},
   "outputs": [],
   "source": [
    "def changeble(x, *y):\n",
    "    print(x, y)"
   ]
  },
  {
   "cell_type": "code",
   "execution_count": 12,
   "id": "65739de7-c5d7-4cc2-a0b2-cabc78cbfb27",
   "metadata": {},
   "outputs": [
    {
     "name": "stdout",
     "output_type": "stream",
     "text": [
      "1 ()\n"
     ]
    }
   ],
   "source": [
    "changeble(1)"
   ]
  },
  {
   "cell_type": "code",
   "execution_count": 13,
   "id": "65005efc-9b9f-49dc-8077-306803812616",
   "metadata": {},
   "outputs": [
    {
     "name": "stdout",
     "output_type": "stream",
     "text": [
      "1 (2,)\n"
     ]
    }
   ],
   "source": [
    "changeble(1, 2)"
   ]
  },
  {
   "cell_type": "code",
   "execution_count": 14,
   "id": "b4de7e2a-235a-46ec-a6de-4d7fdbe4b1c3",
   "metadata": {},
   "outputs": [
    {
     "name": "stdout",
     "output_type": "stream",
     "text": [
      "1 (2, 3)\n"
     ]
    }
   ],
   "source": [
    "changeble(1, 2, 3)"
   ]
  },
  {
   "cell_type": "code",
   "execution_count": 15,
   "id": "4b104ff5-3542-49dc-891c-2f620935a913",
   "metadata": {},
   "outputs": [
    {
     "name": "stdout",
     "output_type": "stream",
     "text": [
      "1 (2, 3, 4, 5)\n"
     ]
    }
   ],
   "source": [
    "changeble(1, 2, 3, 4, 5)"
   ]
  },
  {
   "cell_type": "code",
   "execution_count": null,
   "id": "3a1fadef-318b-4278-a304-5fa8610253f7",
   "metadata": {},
   "outputs": [],
   "source": []
  }
 ],
 "metadata": {
  "kernelspec": {
   "display_name": "Python 3",
   "language": "python",
   "name": "python3"
  },
  "language_info": {
   "codemirror_mode": {
    "name": "ipython",
    "version": 3
   },
   "file_extension": ".py",
   "mimetype": "text/x-python",
   "name": "python",
   "nbconvert_exporter": "python",
   "pygments_lexer": "ipython3",
   "version": "3.8.8"
  }
 },
 "nbformat": 4,
 "nbformat_minor": 5
}
