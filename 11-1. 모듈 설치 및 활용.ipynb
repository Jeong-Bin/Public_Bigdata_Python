{
 "cells": [
  {
   "cell_type": "code",
   "execution_count": 1,
   "id": "e6570177-94cb-4998-8ffe-e912c775152d",
   "metadata": {},
   "outputs": [],
   "source": [
    "# 114"
   ]
  },
  {
   "cell_type": "markdown",
   "id": "30b3d382-3894-4ad8-9d6c-220a2052c5dd",
   "metadata": {},
   "source": [
    "- http://pypi.org 에서 3rd party 모듈을 확인 할 수 있다.\n",
    "- ! pip list : 설치되어있는 3rd party 모듈 확인\n",
    "- help('모듈명') : 해당 모듈에 대한 도움말\n",
    "\n",
    "- import 모듈명\n",
    "- import 모듈명 as Alias명\n",
    "- from 패키지명 import 모듈명\n",
    "- from 모듈명 import 클래스명 or 함수명"
   ]
  },
  {
   "cell_type": "markdown",
   "id": "4423f895-93a4-4021-ba24-6cdeb4212708",
   "metadata": {},
   "source": [
    "### import 모듈명"
   ]
  },
  {
   "cell_type": "code",
   "execution_count": 4,
   "id": "7c118ebc-766f-420f-a637-258dfbd323ee",
   "metadata": {},
   "outputs": [],
   "source": [
    "import os"
   ]
  },
  {
   "cell_type": "code",
   "execution_count": 5,
   "id": "2fd86fda-437f-42fe-8da0-1d5ec4d0c119",
   "metadata": {},
   "outputs": [
    {
     "data": {
      "text/plain": [
       "'C:\\\\Python'"
      ]
     },
     "execution_count": 5,
     "metadata": {},
     "output_type": "execute_result"
    }
   ],
   "source": [
    "os.getcwd()"
   ]
  },
  {
   "cell_type": "code",
   "execution_count": 7,
   "id": "44190d41-ef4c-4cd4-bd60-986a2f54724b",
   "metadata": {},
   "outputs": [
    {
     "data": {
      "text/plain": [
       "['.ipynb_checkpoints',\n",
       " '03-1. 연산자.ipynb',\n",
       " '03-3. 내장함수.ipynb',\n",
       " '04-1. 변수.ipynb',\n",
       " '04-2. 자료형.ipynb',\n",
       " '04-3. 형변환.ipynb',\n",
       " '05-1. 문자열.ipynb',\n",
       " '05-2. 문자열 함수.ipynb',\n",
       " '05-3. 문자열 포맷팅.ipynb',\n",
       " '06-1. 리스트.ipynb',\n",
       " '06-2. 리스트 인덱싱과 슬라이싱.ipynb',\n",
       " '06-3. 튜플.ipynb',\n",
       " '07-1. 셋.ipynb',\n",
       " '07-2. 셋의 집합연산.ipynb',\n",
       " '07-3. 딕셔너리.ipynb',\n",
       " '08-1. 비교&논리 연산자.ipynb',\n",
       " '08-2. 조건문.ipynb',\n",
       " '08-3. 중첩&복합 조건문.ipynb',\n",
       " '09-1. for 반복문.ipynb',\n",
       " '09-2. while 반복문.ipynb',\n",
       " '09-3. 리스트 컴프리헨션.ipynb',\n",
       " '10-1. 함수.ipynb',\n",
       " '10-2. 함수의 매개변수.ipynb',\n",
       " '11-1. 모듈 설치 및 활용.ipynb',\n",
       " '11-2. 사용자 정의 모듈.ipynb',\n",
       " '12-1. 파일 입력.ipynb',\n",
       " '12-2. 파일 출력.ipynb',\n",
       " '12-3. 파일 시스템.ipynb',\n",
       " 'hello.py',\n",
       " 'jupyter_lab.bat',\n",
       " '실습(1).ipynb',\n",
       " '실습(2).ipynb',\n",
       " '실습(3).ipynb',\n",
       " '실습(4).ipynb',\n",
       " '실습(5).ipynb',\n",
       " '실습(6).ipynb']"
      ]
     },
     "execution_count": 7,
     "metadata": {},
     "output_type": "execute_result"
    }
   ],
   "source": [
    "os.listdir()"
   ]
  },
  {
   "cell_type": "markdown",
   "id": "29573ebe-4a92-4151-937d-247d5b38d3a6",
   "metadata": {},
   "source": [
    "### import 모듈명 Alias명"
   ]
  },
  {
   "cell_type": "code",
   "execution_count": 9,
   "id": "f5a34fb6-1bbb-4cb2-8c9e-2e1f065095e3",
   "metadata": {},
   "outputs": [],
   "source": [
    "import numpy as np"
   ]
  },
  {
   "cell_type": "code",
   "execution_count": 10,
   "id": "28184d53-d8c9-48f0-9ab5-d550bfe17b2a",
   "metadata": {},
   "outputs": [
    {
     "data": {
      "text/plain": [
       "3"
      ]
     },
     "execution_count": 10,
     "metadata": {},
     "output_type": "execute_result"
    }
   ],
   "source": [
    "np.absolute(-3)"
   ]
  },
  {
   "cell_type": "code",
   "execution_count": 11,
   "id": "91dad0d0-e7dd-4b91-b8ba-95d4c56f6373",
   "metadata": {},
   "outputs": [
    {
     "data": {
      "text/plain": [
       "4.0"
      ]
     },
     "execution_count": 11,
     "metadata": {},
     "output_type": "execute_result"
    }
   ],
   "source": [
    "np.sqrt(16)"
   ]
  },
  {
   "cell_type": "markdown",
   "id": "eb7c3bce-19b9-473a-b404-7174904c2dfa",
   "metadata": {},
   "source": [
    "### from 패키지명 import 모듈명\n"
   ]
  },
  {
   "cell_type": "code",
   "execution_count": 8,
   "id": "cd4008da-686d-4983-bc0d-696ad6fb08b7",
   "metadata": {},
   "outputs": [],
   "source": [
    "from scipy import stats"
   ]
  },
  {
   "cell_type": "code",
   "execution_count": 12,
   "id": "eb6f5cb1-c8a5-4637-bfe4-f6562919ccc9",
   "metadata": {},
   "outputs": [
    {
     "data": {
      "text/plain": [
       "1.6363636363636365"
      ]
     },
     "execution_count": 12,
     "metadata": {},
     "output_type": "execute_result"
    }
   ],
   "source": [
    "stats.hmean([1, 2, 3])"
   ]
  },
  {
   "cell_type": "code",
   "execution_count": 14,
   "id": "35b2ed63-5cea-417a-8e79-3f499276b21a",
   "metadata": {},
   "outputs": [
    {
     "data": {
      "text/plain": [
       "0.408248290463863"
      ]
     },
     "execution_count": 14,
     "metadata": {},
     "output_type": "execute_result"
    }
   ],
   "source": [
    "stats.variation([1, 2, 3])"
   ]
  },
  {
   "cell_type": "markdown",
   "id": "b79c8d26-fa44-48cd-a8b6-d2d5c3fb9852",
   "metadata": {},
   "source": [
    "### from 모듈명 import 클래스명 or 함수명"
   ]
  },
  {
   "cell_type": "code",
   "execution_count": 15,
   "id": "384bdec7-e690-49d5-bcd1-ed3424088c9b",
   "metadata": {},
   "outputs": [],
   "source": [
    "from datetime import datetime  # 클래스명이 datetime"
   ]
  },
  {
   "cell_type": "code",
   "execution_count": 16,
   "id": "37506ead-595f-485e-ad9d-43942909f24f",
   "metadata": {},
   "outputs": [],
   "source": [
    "now = datetime.now()"
   ]
  },
  {
   "cell_type": "code",
   "execution_count": 17,
   "id": "81728ffa-dc34-4d91-b40b-fca9b375bd59",
   "metadata": {},
   "outputs": [
    {
     "data": {
      "text/plain": [
       "2021"
      ]
     },
     "execution_count": 17,
     "metadata": {},
     "output_type": "execute_result"
    }
   ],
   "source": [
    "now.year"
   ]
  },
  {
   "cell_type": "code",
   "execution_count": 18,
   "id": "b5fa346e-05e6-4ccb-bbc9-c5eb13ae5657",
   "metadata": {},
   "outputs": [
    {
     "data": {
      "text/plain": [
       "7"
      ]
     },
     "execution_count": 18,
     "metadata": {},
     "output_type": "execute_result"
    }
   ],
   "source": [
    "now.month"
   ]
  },
  {
   "cell_type": "code",
   "execution_count": null,
   "id": "ed3e7a58-3720-4abc-8955-146928e58a38",
   "metadata": {},
   "outputs": [],
   "source": []
  },
  {
   "cell_type": "markdown",
   "id": "8ed8c9d9-c71e-4ee6-908c-4d3a9e743d83",
   "metadata": {},
   "source": [
    "### 모듈의 물리적 위치\n",
    "1. 현재 디렉토리\n",
    "2. 환경변수 PYTHONPATH에 지정된 경로\n",
    "3. Python이 설치된 경로 및 하위 라이브러리 디렉토리 경로\n",
    "\n",
    "import sys -> sys.path 로 확인 가능"
   ]
  },
  {
   "cell_type": "code",
   "execution_count": 19,
   "id": "a0c766eb-a1f9-44e5-a75e-c07772ddc92c",
   "metadata": {},
   "outputs": [
    {
     "data": {
      "text/plain": [
       "['C:\\\\Python',\n",
       " 'C:\\\\Users\\\\user\\\\anaconda3\\\\python38.zip',\n",
       " 'C:\\\\Users\\\\user\\\\anaconda3\\\\DLLs',\n",
       " 'C:\\\\Users\\\\user\\\\anaconda3\\\\lib',\n",
       " 'C:\\\\Users\\\\user\\\\anaconda3',\n",
       " '',\n",
       " 'C:\\\\Users\\\\user\\\\anaconda3\\\\lib\\\\site-packages',\n",
       " 'C:\\\\Users\\\\user\\\\anaconda3\\\\lib\\\\site-packages\\\\locket-0.2.1-py3.8.egg',\n",
       " 'C:\\\\Users\\\\user\\\\anaconda3\\\\lib\\\\site-packages\\\\win32',\n",
       " 'C:\\\\Users\\\\user\\\\anaconda3\\\\lib\\\\site-packages\\\\win32\\\\lib',\n",
       " 'C:\\\\Users\\\\user\\\\anaconda3\\\\lib\\\\site-packages\\\\Pythonwin',\n",
       " 'C:\\\\Users\\\\user\\\\anaconda3\\\\lib\\\\site-packages\\\\IPython\\\\extensions',\n",
       " 'C:\\\\Users\\\\user\\\\.ipython']"
      ]
     },
     "execution_count": 19,
     "metadata": {},
     "output_type": "execute_result"
    }
   ],
   "source": [
    "import sys\n",
    "sys.path"
   ]
  },
  {
   "cell_type": "code",
   "execution_count": null,
   "id": "06e4dec5-6617-4007-b009-f5a61a25e190",
   "metadata": {},
   "outputs": [],
   "source": []
  }
 ],
 "metadata": {
  "kernelspec": {
   "display_name": "Python 3",
   "language": "python",
   "name": "python3"
  },
  "language_info": {
   "codemirror_mode": {
    "name": "ipython",
    "version": 3
   },
   "file_extension": ".py",
   "mimetype": "text/x-python",
   "name": "python",
   "nbconvert_exporter": "python",
   "pygments_lexer": "ipython3",
   "version": "3.8.8"
  }
 },
 "nbformat": 4,
 "nbformat_minor": 5
}
