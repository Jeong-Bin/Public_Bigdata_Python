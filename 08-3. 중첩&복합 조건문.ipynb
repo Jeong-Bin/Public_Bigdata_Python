{
 "cells": [
  {
   "cell_type": "code",
   "execution_count": 10,
   "id": "a092dc33-b9f6-49c9-b28a-9b1b4ed5351b",
   "metadata": {},
   "outputs": [],
   "source": [
    "# 90"
   ]
  },
  {
   "cell_type": "code",
   "execution_count": 1,
   "id": "301d2cbd-4e32-4c51-b1e2-ba0699c76be9",
   "metadata": {},
   "outputs": [],
   "source": [
    "a = True\n",
    "x, y = 5, 10"
   ]
  },
  {
   "cell_type": "code",
   "execution_count": 3,
   "id": "38546900-dc08-488a-87c9-1091302f1f0b",
   "metadata": {},
   "outputs": [
    {
     "name": "stdout",
     "output_type": "stream",
     "text": [
      "a는 True입니다.\n",
      "x가 y보다 작습니다.\n"
     ]
    }
   ],
   "source": [
    "if a == True:\n",
    "    print('a는 True입니다.')\n",
    "    if x > y:\n",
    "        print('x가 y보다 큽니다.')\n",
    "    else:\n",
    "        print('x가 y보다 작습니다.')\n",
    "else:\n",
    "    print('a는 False입니다.')"
   ]
  },
  {
   "cell_type": "code",
   "execution_count": null,
   "id": "420441d9-45b3-48c1-b7e7-71f5c4ced3b0",
   "metadata": {},
   "outputs": [],
   "source": []
  },
  {
   "cell_type": "markdown",
   "id": "c311e554-fefc-4e57-ae79-a75eaeed9671",
   "metadata": {},
   "source": [
    "## 입장료 계산하기"
   ]
  },
  {
   "cell_type": "markdown",
   "id": "b38920d9-78e1-49c0-95a1-331afbeebaae",
   "metadata": {},
   "source": [
    "### 방법1 : 중첩 조건문"
   ]
  },
  {
   "cell_type": "code",
   "execution_count": 7,
   "id": "404465f5-6649-4ae4-b4e5-ad73dbd1b520",
   "metadata": {},
   "outputs": [],
   "source": [
    "나이 = 30\n",
    "회원 = True"
   ]
  },
  {
   "cell_type": "code",
   "execution_count": 8,
   "id": "f381529c-b182-47a3-a3b6-b13aef26dcd8",
   "metadata": {},
   "outputs": [
    {
     "name": "stdout",
     "output_type": "stream",
     "text": [
      "입장료는 5,000원 입니다.\n"
     ]
    }
   ],
   "source": [
    "입장료 = 0  # 우선 입장료를 0원으로 초기화\n",
    "\n",
    "# 회원일 때 가격\n",
    "if 회원:\n",
    "    if 나이 > 6 and 나이 <= 13:\n",
    "        입장료 = 2500\n",
    "    elif 나이 > 14 and 나이 <= 59:\n",
    "        입장료 = 5000\n",
    "        \n",
    "# 비회원일 때 가격\n",
    "else:\n",
    "    if 나이 > 6 and 나이 <= 13:\n",
    "        입장료 = 5000\n",
    "    elif 나이 > 14 and 나이 <= 59:\n",
    "        입장료 = 10000\n",
    "\n",
    "print(f'입장료는 {입장료:,}원 입니다.')"
   ]
  },
  {
   "cell_type": "markdown",
   "id": "2749fae3-aef9-4303-851c-38e977589dd1",
   "metadata": {},
   "source": [
    "### 방법2: 복합 조건문\n",
    "- 이 경우 복합 조건문이 코드가 더 간결함"
   ]
  },
  {
   "cell_type": "code",
   "execution_count": 9,
   "id": "22943406-86ce-4ceb-bc27-4916920b25a9",
   "metadata": {},
   "outputs": [
    {
     "name": "stdout",
     "output_type": "stream",
     "text": [
      "입장료는 5,000원 입니다.\n"
     ]
    }
   ],
   "source": [
    "입장료 = 0  # 우선 입장료를 0원으로 초기화\n",
    "\n",
    "# 회원일 때 가격\n",
    "\n",
    "if 나이 <= 6 or 나이 >= 60:\n",
    "    입장료 = 0\n",
    "elif 나이 > 6 and 나이 <= 13:\n",
    "    입장료 = 5000\n",
    "elif 나이 > 14 and 나이 <= 59:\n",
    "    입장료 = 10000        \n",
    "\n",
    "if 회원:\n",
    "    입장료 = int(입장료 * 0.5)\n",
    "\n",
    "print(f'입장료는 {입장료:,}원 입니다.')"
   ]
  },
  {
   "cell_type": "code",
   "execution_count": null,
   "id": "854f0cc0-a346-4e90-af06-53583c3410df",
   "metadata": {},
   "outputs": [],
   "source": []
  }
 ],
 "metadata": {
  "kernelspec": {
   "display_name": "Python 3",
   "language": "python",
   "name": "python3"
  },
  "language_info": {
   "codemirror_mode": {
    "name": "ipython",
    "version": 3
   },
   "file_extension": ".py",
   "mimetype": "text/x-python",
   "name": "python",
   "nbconvert_exporter": "python",
   "pygments_lexer": "ipython3",
   "version": "3.8.8"
  }
 },
 "nbformat": 4,
 "nbformat_minor": 5
}
