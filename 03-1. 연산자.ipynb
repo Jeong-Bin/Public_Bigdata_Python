{
 "cells": [
  {
   "cell_type": "code",
   "execution_count": 1,
   "id": "262657d4-aa81-4026-b4d3-9a6411b8c224",
   "metadata": {},
   "outputs": [],
   "source": [
    "# 31"
   ]
  },
  {
   "cell_type": "markdown",
   "id": "6adbbdef-7d61-4dcb-9f76-f735c278e1e0",
   "metadata": {},
   "source": [
    "# 파이썬 연산자"
   ]
  },
  {
   "cell_type": "markdown",
   "id": "3f0c01a6-e3f1-48ba-9cc7-d37e25cbac75",
   "metadata": {},
   "source": [
    "### 덧셈"
   ]
  },
  {
   "cell_type": "code",
   "execution_count": 1,
   "id": "f14eb58f-2add-4184-9da0-de26cab1d01b",
   "metadata": {},
   "outputs": [
    {
     "data": {
      "text/plain": [
       "6"
      ]
     },
     "execution_count": 1,
     "metadata": {},
     "output_type": "execute_result"
    }
   ],
   "source": [
    "2 + 4"
   ]
  },
  {
   "cell_type": "markdown",
   "id": "d27c5232-1567-4b17-96a4-2362d72ca1fe",
   "metadata": {},
   "source": [
    "### 뺄셈"
   ]
  },
  {
   "cell_type": "code",
   "execution_count": 2,
   "id": "35c9dc4a-0fba-47cf-8350-642ebdaa3ffd",
   "metadata": {},
   "outputs": [
    {
     "data": {
      "text/plain": [
       "2"
      ]
     },
     "execution_count": 2,
     "metadata": {},
     "output_type": "execute_result"
    }
   ],
   "source": [
    "4 - 2"
   ]
  },
  {
   "cell_type": "markdown",
   "id": "6386223f-8f05-47cb-b95f-713fffe589c9",
   "metadata": {},
   "source": [
    "### 곱셈"
   ]
  },
  {
   "cell_type": "code",
   "execution_count": 3,
   "id": "8b8b69fe-98bc-4b62-aace-fabd755ff475",
   "metadata": {},
   "outputs": [
    {
     "data": {
      "text/plain": [
       "8"
      ]
     },
     "execution_count": 3,
     "metadata": {},
     "output_type": "execute_result"
    }
   ],
   "source": [
    "2 * 4"
   ]
  },
  {
   "cell_type": "markdown",
   "id": "7edb3f7a-7ce1-47fa-b13e-8a86a6d88347",
   "metadata": {},
   "source": [
    "### 나누기"
   ]
  },
  {
   "cell_type": "code",
   "execution_count": 4,
   "id": "841a7117-d89d-4168-95bd-400191624885",
   "metadata": {},
   "outputs": [
    {
     "data": {
      "text/plain": [
       "2.0"
      ]
     },
     "execution_count": 4,
     "metadata": {},
     "output_type": "execute_result"
    }
   ],
   "source": [
    "4 / 2"
   ]
  },
  {
   "cell_type": "markdown",
   "id": "e4f150df-3714-440e-aacf-29c96f0bcab9",
   "metadata": {},
   "source": [
    "### 제곱"
   ]
  },
  {
   "cell_type": "code",
   "execution_count": 5,
   "id": "cd596d44-8aec-4eb1-a126-2b4461be986b",
   "metadata": {},
   "outputs": [
    {
     "data": {
      "text/plain": [
       "16"
      ]
     },
     "execution_count": 5,
     "metadata": {},
     "output_type": "execute_result"
    }
   ],
   "source": [
    "4 ** 2"
   ]
  },
  {
   "cell_type": "markdown",
   "id": "c9f91b39-f086-4377-9e47-40e6bc017117",
   "metadata": {},
   "source": [
    "### 실수몫"
   ]
  },
  {
   "cell_type": "code",
   "execution_count": 6,
   "id": "e4d816a1-345f-4681-8f85-87cc16a4d91d",
   "metadata": {},
   "outputs": [
    {
     "data": {
      "text/plain": [
       "3.5"
      ]
     },
     "execution_count": 6,
     "metadata": {},
     "output_type": "execute_result"
    }
   ],
   "source": [
    "7 / 2"
   ]
  },
  {
   "cell_type": "markdown",
   "id": "dbfeda98-9f83-41a6-8b7f-72d618700c69",
   "metadata": {},
   "source": [
    "### 정수목"
   ]
  },
  {
   "cell_type": "code",
   "execution_count": 7,
   "id": "0fdf2def-2f11-40e2-b8d3-98d77db5253d",
   "metadata": {},
   "outputs": [
    {
     "data": {
      "text/plain": [
       "3"
      ]
     },
     "execution_count": 7,
     "metadata": {},
     "output_type": "execute_result"
    }
   ],
   "source": [
    "7 // 2"
   ]
  },
  {
   "cell_type": "markdown",
   "id": "b378b2c8-7e10-45f1-8676-ed3ec4ef3d05",
   "metadata": {},
   "source": [
    "### 나머지"
   ]
  },
  {
   "cell_type": "code",
   "execution_count": 8,
   "id": "c80b1e26-3433-47d4-8d5e-7ee97ad576b1",
   "metadata": {},
   "outputs": [
    {
     "data": {
      "text/plain": [
       "1"
      ]
     },
     "execution_count": 8,
     "metadata": {},
     "output_type": "execute_result"
    }
   ],
   "source": [
    "7 % 2"
   ]
  },
  {
   "cell_type": "markdown",
   "id": "1d44d326-a7dc-4145-aade-a26f2cee1e6b",
   "metadata": {},
   "source": [
    "---"
   ]
  },
  {
   "cell_type": "markdown",
   "id": "56fbd5b3-aa8c-464f-a7b0-b4375dcf57a5",
   "metadata": {},
   "source": [
    "# 파이썬 주석문"
   ]
  },
  {
   "cell_type": "code",
   "execution_count": 11,
   "id": "e83feab8-0275-4a83-b768-4d81b84ef856",
   "metadata": {},
   "outputs": [],
   "source": [
    "# crtl + /"
   ]
  },
  {
   "cell_type": "code",
   "execution_count": 10,
   "id": "aaeb02a3-3103-4a0e-82c6-dbb71c6a208e",
   "metadata": {},
   "outputs": [],
   "source": [
    "# 파이썬 주석문"
   ]
  },
  {
   "cell_type": "code",
   "execution_count": 12,
   "id": "e45d8de7-9780-40fb-bfe1-c6b3dbca9679",
   "metadata": {},
   "outputs": [],
   "source": [
    "# 파이썬\n",
    "# 주석문"
   ]
  },
  {
   "cell_type": "code",
   "execution_count": 13,
   "id": "09f16cbd-d508-4ac6-8507-326f0aa7d3a4",
   "metadata": {},
   "outputs": [
    {
     "name": "stdout",
     "output_type": "stream",
     "text": [
      "1\n"
     ]
    }
   ],
   "source": [
    "'''\n",
    "파이썬\n",
    "블럭\n",
    "주석문\n",
    "'''\n",
    "\n",
    "print(1)"
   ]
  },
  {
   "cell_type": "markdown",
   "id": "356b4634-03e1-4563-a46f-3bbf0374c336",
   "metadata": {},
   "source": [
    "# 들여쓰기"
   ]
  },
  {
   "cell_type": "code",
   "execution_count": 14,
   "id": "bb2e86a1-6499-44c5-ba61-6f8399531321",
   "metadata": {},
   "outputs": [
    {
     "name": "stdout",
     "output_type": "stream",
     "text": [
      "True\n"
     ]
    }
   ],
   "source": [
    "a = True\n",
    "if a :\n",
    "    print(\"True\")\n",
    "else:\n",
    "    print(\"False\")"
   ]
  },
  {
   "cell_type": "code",
   "execution_count": 15,
   "id": "0fafa34a-744f-4bb4-ab5f-d3fb7b481aff",
   "metadata": {},
   "outputs": [
    {
     "name": "stdout",
     "output_type": "stream",
     "text": [
      "True\n",
      "True End ...\n",
      "End...\n"
     ]
    }
   ],
   "source": [
    "a = True\n",
    "if a :\n",
    "    print(\"True\")\n",
    "    print(\"True End ...\")\n",
    "else:\n",
    "    print(\"False\")\n",
    "print('End...')"
   ]
  },
  {
   "cell_type": "code",
   "execution_count": null,
   "id": "1f07cf3c-7e59-4c7d-a9e8-0d7c96372804",
   "metadata": {},
   "outputs": [],
   "source": []
  }
 ],
 "metadata": {
  "kernelspec": {
   "display_name": "Python 3",
   "language": "python",
   "name": "python3"
  },
  "language_info": {
   "codemirror_mode": {
    "name": "ipython",
    "version": 3
   },
   "file_extension": ".py",
   "mimetype": "text/x-python",
   "name": "python",
   "nbconvert_exporter": "python",
   "pygments_lexer": "ipython3",
   "version": "3.8.8"
  }
 },
 "nbformat": 4,
 "nbformat_minor": 5
}
