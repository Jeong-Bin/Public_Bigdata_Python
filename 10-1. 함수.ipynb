{
 "cells": [
  {
   "cell_type": "code",
   "execution_count": 12,
   "id": "5269a1d9-e0e6-45a8-ab53-1ea47af25ecd",
   "metadata": {},
   "outputs": [],
   "source": [
    "# 105"
   ]
  },
  {
   "cell_type": "markdown",
   "id": "f7ca91a4-c211-4e84-bd65-f84b614474a5",
   "metadata": {},
   "source": [
    "### 사용자 정의함수"
   ]
  },
  {
   "cell_type": "code",
   "execution_count": 3,
   "id": "36068111-4c1b-416f-a254-fe2c6ba013ee",
   "metadata": {
    "tags": []
   },
   "outputs": [
    {
     "data": {
      "text/plain": [
       "'\\ndef 함수명(매개변수):\\n    함수기능\\nreturn 반환값\\n'"
      ]
     },
     "execution_count": 3,
     "metadata": {},
     "output_type": "execute_result"
    }
   ],
   "source": [
    "'''\n",
    "def 함수명(매개변수):   # () 안의 값 -> 매개변수(파라미터)\n",
    "    함수기능\n",
    "return 반환값\n",
    "'''\n",
    "# 매개변수와 반환값은 선택사항"
   ]
  },
  {
   "cell_type": "code",
   "execution_count": 4,
   "id": "57dfc6da-cb27-4d7b-9766-66c5fb02b91d",
   "metadata": {
    "tags": []
   },
   "outputs": [
    {
     "name": "stdout",
     "output_type": "stream",
     "text": [
      "더하기 함수입니다.\n"
     ]
    }
   ],
   "source": [
    "# 매개변수 X, 반환값 X\n",
    "def add1():\n",
    "    print(\"더하기 함수입니다.\")\n",
    "    \n",
    "add1()"
   ]
  },
  {
   "cell_type": "code",
   "execution_count": 5,
   "id": "4d7ceb64-d43b-4a0a-86df-fb3eff401b48",
   "metadata": {},
   "outputs": [
    {
     "name": "stdout",
     "output_type": "stream",
     "text": [
      "3\n"
     ]
    }
   ],
   "source": [
    "# 매개변수 O, 반환값 X\n",
    "def add2(x, y):    # () 안의 값 -> 매개변수(파라미터)\n",
    "    print(x + y)\n",
    "    \n",
    "add2(1, 2)         # () 안의 값 -> 인자(아규먼트)"
   ]
  },
  {
   "cell_type": "code",
   "execution_count": 8,
   "id": "9b0a3014-e03c-41f1-afbe-1b6c9a28c89e",
   "metadata": {},
   "outputs": [
    {
     "name": "stdout",
     "output_type": "stream",
     "text": [
      "6\n"
     ]
    }
   ],
   "source": [
    "# 매개변수 X, 반환값 O\n",
    "def add3():\n",
    "    x, y = 2, 4\n",
    "    return x + y\n",
    "    \n",
    "re_val = add3()\n",
    "print(re_val)"
   ]
  },
  {
   "cell_type": "code",
   "execution_count": 10,
   "id": "8b44b44c-d17c-4095-9584-4d0b7660d5ac",
   "metadata": {},
   "outputs": [
    {
     "name": "stdout",
     "output_type": "stream",
     "text": [
      "6\n"
     ]
    }
   ],
   "source": [
    "# 매개변수 O, 반환값 O\n",
    "def add4(x, y):  # 2\n",
    "    return x + y  # 3\n",
    "    \n",
    "re_val = add4(2, 4)  # 1\n",
    "print(re_val)  # 4"
   ]
  },
  {
   "cell_type": "code",
   "execution_count": null,
   "id": "79f65ab0-e56e-4711-8335-80204a9efad8",
   "metadata": {},
   "outputs": [],
   "source": []
  },
  {
   "cell_type": "markdown",
   "id": "6531d96c-f772-4cd5-af34-6872e97420e5",
   "metadata": {},
   "source": [
    "### 다중 반환값"
   ]
  },
  {
   "cell_type": "code",
   "execution_count": 11,
   "id": "a843c09f-8a98-4e96-ad32-34f7450ea91e",
   "metadata": {},
   "outputs": [
    {
     "name": "stdout",
     "output_type": "stream",
     "text": [
      "4\n",
      "9\n"
     ]
    }
   ],
   "source": [
    "def square(x, y):\n",
    "    x = x ** 2\n",
    "    y = y ** 2\n",
    "    return x, y\n",
    "\n",
    "a, b = square(2, 3)\n",
    "print(a)\n",
    "print(b)"
   ]
  },
  {
   "cell_type": "code",
   "execution_count": null,
   "id": "db8933e6-e685-4750-9c19-4082730cc061",
   "metadata": {},
   "outputs": [],
   "source": []
  }
 ],
 "metadata": {
  "kernelspec": {
   "display_name": "Python 3",
   "language": "python",
   "name": "python3"
  },
  "language_info": {
   "codemirror_mode": {
    "name": "ipython",
    "version": 3
   },
   "file_extension": ".py",
   "mimetype": "text/x-python",
   "name": "python",
   "nbconvert_exporter": "python",
   "pygments_lexer": "ipython3",
   "version": "3.8.8"
  }
 },
 "nbformat": 4,
 "nbformat_minor": 5
}
