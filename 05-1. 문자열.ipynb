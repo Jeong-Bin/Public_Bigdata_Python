{
 "cells": [
  {
   "cell_type": "code",
   "execution_count": 1,
   "id": "5a26a217-4cc7-4c34-b77c-75611f3bf714",
   "metadata": {},
   "outputs": [],
   "source": [
    "# 52"
   ]
  },
  {
   "cell_type": "code",
   "execution_count": 1,
   "id": "724b9eb8-1b9b-4e67-9218-5b300d8faea5",
   "metadata": {},
   "outputs": [
    {
     "name": "stdout",
     "output_type": "stream",
     "text": [
      "파이썬\n"
     ]
    }
   ],
   "source": [
    "a = '파이썬'\n",
    "print(a)"
   ]
  },
  {
   "cell_type": "code",
   "execution_count": 2,
   "id": "6a45c233-963a-42ca-9eec-538368421930",
   "metadata": {},
   "outputs": [
    {
     "name": "stdout",
     "output_type": "stream",
     "text": [
      "문자열\n"
     ]
    }
   ],
   "source": [
    "b = \"문자열\"\n",
    "print(b)"
   ]
  },
  {
   "cell_type": "code",
   "execution_count": 3,
   "id": "8cf099cb-d7b9-4724-8c69-a16609aeb577",
   "metadata": {},
   "outputs": [
    {
     "name": "stdout",
     "output_type": "stream",
     "text": [
      "\n",
      "죽는 날까지 하늘을 우러러\n",
      "한 점 부끄럼 없기릏\n",
      "입새에 이는 바람에도\n",
      "나는 괴로워 했다\n",
      "\n"
     ]
    }
   ],
   "source": [
    "c = \"\"\"\n",
    "죽는 날까지 하늘을 우러러\n",
    "한 점 부끄럼 없기릏\n",
    "입새에 이는 바람에도\n",
    "나는 괴로워 했다\n",
    "\"\"\"\n",
    "\n",
    "print(c)"
   ]
  },
  {
   "cell_type": "markdown",
   "id": "db14ba8d-debd-470c-8574-e938b2961dab",
   "metadata": {},
   "source": [
    "# 문자열 연산"
   ]
  },
  {
   "cell_type": "code",
   "execution_count": 8,
   "id": "018b0069-436e-4329-8927-e96bbad8fd4d",
   "metadata": {},
   "outputs": [
    {
     "ename": "TypeError",
     "evalue": "can only concatenate str (not \"int\") to str",
     "output_type": "error",
     "traceback": [
      "\u001b[1;31m---------------------------------------------------------------------------\u001b[0m",
      "\u001b[1;31mTypeError\u001b[0m                                 Traceback (most recent call last)",
      "\u001b[1;32m<ipython-input-8-ff25ad6d14ce>\u001b[0m in \u001b[0;36m<module>\u001b[1;34m\u001b[0m\n\u001b[1;32m----> 1\u001b[1;33m \u001b[1;34m'파이썬'\u001b[0m \u001b[1;33m+\u001b[0m \u001b[1;36m3\u001b[0m\u001b[1;33m\u001b[0m\u001b[1;33m\u001b[0m\u001b[0m\n\u001b[0m",
      "\u001b[1;31mTypeError\u001b[0m: can only concatenate str (not \"int\") to str"
     ]
    }
   ],
   "source": [
    "'파이썬' + 3  # 그냥은 안 됨"
   ]
  },
  {
   "cell_type": "code",
   "execution_count": 10,
   "id": "819363fc-15a4-49fb-8995-d207ee4b3c24",
   "metadata": {},
   "outputs": [],
   "source": [
    "d = '파이썬' + str(3)"
   ]
  },
  {
   "cell_type": "code",
   "execution_count": 11,
   "id": "2160e280-514d-47ed-a57a-e58a6ccd1de9",
   "metadata": {},
   "outputs": [
    {
     "name": "stdout",
     "output_type": "stream",
     "text": [
      "파이썬3\n"
     ]
    }
   ],
   "source": [
    "print(d)"
   ]
  },
  {
   "cell_type": "code",
   "execution_count": 12,
   "id": "a57037f0-f297-4ce2-9926-d03f6f312a3e",
   "metadata": {},
   "outputs": [],
   "source": [
    "e = '*' * 10"
   ]
  },
  {
   "cell_type": "code",
   "execution_count": 13,
   "id": "308f62d9-db38-4876-a93a-d8eb827ba5c2",
   "metadata": {},
   "outputs": [
    {
     "name": "stdout",
     "output_type": "stream",
     "text": [
      "**********\n"
     ]
    }
   ],
   "source": [
    "print(e)"
   ]
  },
  {
   "cell_type": "markdown",
   "id": "b62bca6a-7a1a-4660-9d77-f9a67a94b5a1",
   "metadata": {},
   "source": [
    "# 문자열 인덱싱(indexing)"
   ]
  },
  {
   "cell_type": "code",
   "execution_count": 22,
   "id": "1478a9cd-1bea-4d54-a386-5a5d576a4d44",
   "metadata": {},
   "outputs": [],
   "source": [
    "a = 'HelloWorld!'"
   ]
  },
  {
   "cell_type": "code",
   "execution_count": 23,
   "id": "5802218c-0857-47d0-ac90-a5486f37495c",
   "metadata": {},
   "outputs": [
    {
     "data": {
      "text/plain": [
       "'H'"
      ]
     },
     "execution_count": 23,
     "metadata": {},
     "output_type": "execute_result"
    }
   ],
   "source": [
    "a[0]"
   ]
  },
  {
   "cell_type": "code",
   "execution_count": 24,
   "id": "20d73386-643f-42c3-ab67-fccd9ed13d1b",
   "metadata": {},
   "outputs": [
    {
     "data": {
      "text/plain": [
       "'W'"
      ]
     },
     "execution_count": 24,
     "metadata": {},
     "output_type": "execute_result"
    }
   ],
   "source": [
    "a[5]"
   ]
  },
  {
   "cell_type": "code",
   "execution_count": 25,
   "id": "218513e9-9895-4ca7-835b-8764bd54398b",
   "metadata": {},
   "outputs": [
    {
     "data": {
      "text/plain": [
       "'!'"
      ]
     },
     "execution_count": 25,
     "metadata": {},
     "output_type": "execute_result"
    }
   ],
   "source": [
    "a[-1]"
   ]
  },
  {
   "cell_type": "code",
   "execution_count": 26,
   "id": "7abdb65c-290c-4ac2-b41e-d4783a65c3cd",
   "metadata": {},
   "outputs": [
    {
     "data": {
      "text/plain": [
       "'d'"
      ]
     },
     "execution_count": 26,
     "metadata": {},
     "output_type": "execute_result"
    }
   ],
   "source": [
    "a[-2]"
   ]
  },
  {
   "cell_type": "markdown",
   "id": "272b5d0c-2c82-483e-82d4-845edccd5413",
   "metadata": {},
   "source": [
    "# 문자열 슬라이싱(slicing)"
   ]
  },
  {
   "cell_type": "code",
   "execution_count": 34,
   "id": "78297d24-5506-41e3-9550-c7a0287d9dda",
   "metadata": {},
   "outputs": [],
   "source": [
    "# a[start : end : step]\n",
    "#   시작 : 종료 : 건너뛰기"
   ]
  },
  {
   "cell_type": "code",
   "execution_count": 27,
   "id": "55344a36-7d52-4829-b120-b2bbdf370ec1",
   "metadata": {},
   "outputs": [],
   "source": [
    "a = 'HelloWorld!'"
   ]
  },
  {
   "cell_type": "code",
   "execution_count": 28,
   "id": "b5ef206c-0920-49ee-a8b5-c590a4fc0a2a",
   "metadata": {},
   "outputs": [
    {
     "data": {
      "text/plain": [
       "'Hello'"
      ]
     },
     "execution_count": 28,
     "metadata": {},
     "output_type": "execute_result"
    }
   ],
   "source": [
    "a[:5]  # a[0:5]"
   ]
  },
  {
   "cell_type": "code",
   "execution_count": 29,
   "id": "fc05e829-a4c2-4c9f-a51d-13cfce922a1c",
   "metadata": {},
   "outputs": [
    {
     "data": {
      "text/plain": [
       "'World!'"
      ]
     },
     "execution_count": 29,
     "metadata": {},
     "output_type": "execute_result"
    }
   ],
   "source": [
    "a[5:]"
   ]
  },
  {
   "cell_type": "code",
   "execution_count": 30,
   "id": "23c22b4f-b23f-4434-b332-95c0defe24af",
   "metadata": {},
   "outputs": [
    {
     "data": {
      "text/plain": [
       "'HelloWorld!'"
      ]
     },
     "execution_count": 30,
     "metadata": {},
     "output_type": "execute_result"
    }
   ],
   "source": [
    "a[:]"
   ]
  },
  {
   "cell_type": "code",
   "execution_count": 31,
   "id": "7160f9a2-dc51-4196-8764-05521ff2a849",
   "metadata": {},
   "outputs": [
    {
     "data": {
      "text/plain": [
       "'Hlool!'"
      ]
     },
     "execution_count": 31,
     "metadata": {},
     "output_type": "execute_result"
    }
   ],
   "source": [
    "a[::2]"
   ]
  },
  {
   "cell_type": "code",
   "execution_count": 33,
   "id": "ae43bbe9-ca13-4619-b6a7-8d781f0ed379",
   "metadata": {},
   "outputs": [
    {
     "data": {
      "text/plain": [
       "'!dlroWolleH'"
      ]
     },
     "execution_count": 33,
     "metadata": {},
     "output_type": "execute_result"
    }
   ],
   "source": [
    "a[::-1]  # step이 음수면 역정렬한다."
   ]
  },
  {
   "cell_type": "code",
   "execution_count": 35,
   "id": "5fe8c68c-6538-4391-b0c5-549936ee1dcf",
   "metadata": {},
   "outputs": [
    {
     "data": {
      "text/plain": [
       "'!loolH'"
      ]
     },
     "execution_count": 35,
     "metadata": {},
     "output_type": "execute_result"
    }
   ],
   "source": [
    "a[::-2]"
   ]
  }
 ],
 "metadata": {
  "kernelspec": {
   "display_name": "Python 3",
   "language": "python",
   "name": "python3"
  },
  "language_info": {
   "codemirror_mode": {
    "name": "ipython",
    "version": 3
   },
   "file_extension": ".py",
   "mimetype": "text/x-python",
   "name": "python",
   "nbconvert_exporter": "python",
   "pygments_lexer": "ipython3",
   "version": "3.8.8"
  }
 },
 "nbformat": 4,
 "nbformat_minor": 5
}
