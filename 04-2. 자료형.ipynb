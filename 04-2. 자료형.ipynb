{
 "cells": [
  {
   "cell_type": "code",
   "execution_count": 1,
   "id": "30475287-490a-4051-a6e7-13e138b7a1c5",
   "metadata": {},
   "outputs": [],
   "source": [
    "# 44"
   ]
  },
  {
   "cell_type": "markdown",
   "id": "c91e71f5-e705-411d-b0fb-1594f15bbba3",
   "metadata": {},
   "source": [
    "- 숫자 자료형 : int, float, complex\n",
    "- 불리언 자료형 : bool(True, False)\n",
    "- 컬렉션 자료형 : str, list, tuple, dict, set"
   ]
  },
  {
   "cell_type": "markdown",
   "id": "02e7c681-52a1-403d-8d89-c46e4f5064df",
   "metadata": {},
   "source": [
    "# 숫자 자료형"
   ]
  },
  {
   "cell_type": "markdown",
   "id": "cf0c8c6f-07a8-4364-9519-8e2150cdc707",
   "metadata": {},
   "source": [
    "### int(정수형)"
   ]
  },
  {
   "cell_type": "code",
   "execution_count": 2,
   "id": "87078021-e063-46d3-8d15-7a331c0f4e42",
   "metadata": {},
   "outputs": [],
   "source": [
    "price = 1000"
   ]
  },
  {
   "cell_type": "code",
   "execution_count": 3,
   "id": "3dbacb43-0d7a-48b7-bd5f-c88756841b81",
   "metadata": {},
   "outputs": [
    {
     "name": "stdout",
     "output_type": "stream",
     "text": [
      "1000\n"
     ]
    }
   ],
   "source": [
    "print(price)"
   ]
  },
  {
   "cell_type": "code",
   "execution_count": 4,
   "id": "658e60f3-9c43-48a0-8edc-dd099bdc9fec",
   "metadata": {},
   "outputs": [
    {
     "name": "stdout",
     "output_type": "stream",
     "text": [
      "<class 'int'>\n"
     ]
    }
   ],
   "source": [
    "print(type(price))"
   ]
  },
  {
   "cell_type": "markdown",
   "id": "bad196df-d2e7-4325-bf0f-7e816165088d",
   "metadata": {},
   "source": [
    "### float(실수형)"
   ]
  },
  {
   "cell_type": "code",
   "execution_count": 6,
   "id": "358c85a0-283c-477b-8f2a-25b425e7da72",
   "metadata": {},
   "outputs": [],
   "source": [
    "rate = 0.05"
   ]
  },
  {
   "cell_type": "code",
   "execution_count": 7,
   "id": "f372ad9f-7b3e-4f2d-837d-5f18025148e1",
   "metadata": {},
   "outputs": [
    {
     "name": "stdout",
     "output_type": "stream",
     "text": [
      "0.05\n"
     ]
    }
   ],
   "source": [
    "print(rate)"
   ]
  },
  {
   "cell_type": "code",
   "execution_count": 8,
   "id": "daae8dcc-b524-45a2-a3a3-a8136d50d710",
   "metadata": {},
   "outputs": [
    {
     "name": "stdout",
     "output_type": "stream",
     "text": [
      "<class 'float'>\n"
     ]
    }
   ],
   "source": [
    "print(type(rate))"
   ]
  },
  {
   "cell_type": "markdown",
   "id": "c3fc6b06-f6aa-4da6-a1c2-229788bafc58",
   "metadata": {},
   "source": [
    "### 지수 표현"
   ]
  },
  {
   "cell_type": "code",
   "execution_count": 9,
   "id": "68c4ee4e-047f-4aac-9ac0-a38e4ad3ecf1",
   "metadata": {},
   "outputs": [],
   "source": [
    "amount = 17e5"
   ]
  },
  {
   "cell_type": "code",
   "execution_count": 10,
   "id": "024e44fd-9104-4752-a426-e8150c082c34",
   "metadata": {},
   "outputs": [
    {
     "name": "stdout",
     "output_type": "stream",
     "text": [
      "1700000.0\n"
     ]
    }
   ],
   "source": [
    "print(amount)"
   ]
  },
  {
   "cell_type": "code",
   "execution_count": 11,
   "id": "706e0ae9-264b-4b13-8716-f7c19c6444c0",
   "metadata": {},
   "outputs": [],
   "source": [
    "decimal = 2.65e-3"
   ]
  },
  {
   "cell_type": "code",
   "execution_count": 12,
   "id": "d9623589-13d1-49cf-ad78-efaeaa14942a",
   "metadata": {},
   "outputs": [
    {
     "name": "stdout",
     "output_type": "stream",
     "text": [
      "0.00265\n"
     ]
    }
   ],
   "source": [
    "print(decimal)"
   ]
  },
  {
   "cell_type": "markdown",
   "id": "5e30d8f6-3463-46e7-be87-205ab8ea867a",
   "metadata": {},
   "source": [
    "# 불리언 자료형"
   ]
  },
  {
   "cell_type": "code",
   "execution_count": 15,
   "id": "59239958-463b-493e-8136-be59b3a60617",
   "metadata": {},
   "outputs": [],
   "source": [
    "a = True\n",
    "b = False"
   ]
  },
  {
   "cell_type": "code",
   "execution_count": 18,
   "id": "92bdab99-161d-4ae4-88ac-b70b8ceed913",
   "metadata": {},
   "outputs": [
    {
     "name": "stdout",
     "output_type": "stream",
     "text": [
      "True\n",
      "<class 'bool'>\n"
     ]
    }
   ],
   "source": [
    "print(a)\n",
    "print(type(a))"
   ]
  },
  {
   "cell_type": "code",
   "execution_count": 19,
   "id": "ffab624e-530d-4185-b04a-7ec862fa8479",
   "metadata": {
    "tags": []
   },
   "outputs": [
    {
     "name": "stdout",
     "output_type": "stream",
     "text": [
      "False\n",
      "<class 'bool'>\n"
     ]
    }
   ],
   "source": [
    "print(b)\n",
    "print(type(b))"
   ]
  },
  {
   "cell_type": "markdown",
   "id": "14c36b90-ded7-42df-8d3f-f3041b88c5d4",
   "metadata": {},
   "source": [
    "# 집합 자료형"
   ]
  },
  {
   "cell_type": "markdown",
   "id": "3da71330-153d-4603-b24d-0c785e625f7a",
   "metadata": {},
   "source": [
    "### 문자열(str)"
   ]
  },
  {
   "cell_type": "code",
   "execution_count": 20,
   "id": "2ac3c913-2fef-47ef-940b-a5771642cb3d",
   "metadata": {},
   "outputs": [],
   "source": [
    "s = 'Hello'"
   ]
  },
  {
   "cell_type": "code",
   "execution_count": 21,
   "id": "c70bb175-4434-48b8-bbb9-45b44b44ecdb",
   "metadata": {},
   "outputs": [
    {
     "name": "stdout",
     "output_type": "stream",
     "text": [
      "Hello\n",
      "<class 'str'>\n"
     ]
    }
   ],
   "source": [
    "print(s)\n",
    "print(type(s))"
   ]
  },
  {
   "cell_type": "markdown",
   "id": "91755028-2a8e-4cac-bbf0-46a02c458200",
   "metadata": {},
   "source": [
    "### 리스트(list)"
   ]
  },
  {
   "cell_type": "code",
   "execution_count": 22,
   "id": "f7e37737-8802-41b5-8e08-2e0d23d979bb",
   "metadata": {},
   "outputs": [],
   "source": [
    "l = [1, 2, 3, 4, 5]"
   ]
  },
  {
   "cell_type": "code",
   "execution_count": 23,
   "id": "7369e742-2a39-4916-93c7-8cfa1a2ab3ec",
   "metadata": {},
   "outputs": [
    {
     "name": "stdout",
     "output_type": "stream",
     "text": [
      "[1, 2, 3, 4, 5]\n",
      "<class 'list'>\n"
     ]
    }
   ],
   "source": [
    "print(l)\n",
    "print(type(l))"
   ]
  },
  {
   "cell_type": "markdown",
   "id": "71eeb7d0-c4b6-4839-8925-72d2afd3d463",
   "metadata": {},
   "source": [
    "### 튜플(tuple)"
   ]
  },
  {
   "cell_type": "code",
   "execution_count": 24,
   "id": "b0001f97-a2b8-4d18-ab4a-6b3d77594827",
   "metadata": {},
   "outputs": [],
   "source": [
    "t = (1, 2, 3, 4, 5)"
   ]
  },
  {
   "cell_type": "code",
   "execution_count": 25,
   "id": "5e8cb0be-b115-4e86-8341-517a320ea0ca",
   "metadata": {},
   "outputs": [
    {
     "name": "stdout",
     "output_type": "stream",
     "text": [
      "(1, 2, 3, 4, 5)\n",
      "<class 'tuple'>\n"
     ]
    }
   ],
   "source": [
    "print(t)\n",
    "print(type(t))"
   ]
  },
  {
   "cell_type": "markdown",
   "id": "aa2b6792-98b1-4891-8bc2-a5689b3cd097",
   "metadata": {},
   "source": [
    "### 셋(set)"
   ]
  },
  {
   "cell_type": "code",
   "execution_count": 26,
   "id": "a5b90835-5a26-4e4d-b71d-63e263450e82",
   "metadata": {},
   "outputs": [],
   "source": [
    "se = {1, 2, 3, 4, 5}"
   ]
  },
  {
   "cell_type": "code",
   "execution_count": 27,
   "id": "b38bb4e9-4770-4547-a030-d8a02ab0ab2a",
   "metadata": {},
   "outputs": [
    {
     "name": "stdout",
     "output_type": "stream",
     "text": [
      "{1, 2, 3, 4, 5}\n",
      "<class 'set'>\n"
     ]
    }
   ],
   "source": [
    "print(se)\n",
    "print(type(se))"
   ]
  },
  {
   "cell_type": "markdown",
   "id": "53bf581a-0deb-4ccb-9e09-c7dd004a0080",
   "metadata": {},
   "source": [
    "### 딕셔너리(dictionary)"
   ]
  },
  {
   "cell_type": "code",
   "execution_count": 28,
   "id": "f7856516-232c-414e-874c-10a774aece2e",
   "metadata": {},
   "outputs": [],
   "source": [
    "d = {'a':1,\n",
    "     'b':2,\n",
    "     'c':3}"
   ]
  },
  {
   "cell_type": "code",
   "execution_count": 29,
   "id": "a5f411ec-e2fd-4f44-bc1b-bf3fd84201d0",
   "metadata": {},
   "outputs": [
    {
     "name": "stdout",
     "output_type": "stream",
     "text": [
      "{'a': 1, 'b': 2, 'c': 3}\n",
      "<class 'dict'>\n"
     ]
    }
   ],
   "source": [
    "print(d)\n",
    "print(type(d))"
   ]
  },
  {
   "cell_type": "code",
   "execution_count": null,
   "id": "01429d19-411e-43b5-bd3a-828c663704f2",
   "metadata": {},
   "outputs": [],
   "source": []
  }
 ],
 "metadata": {
  "kernelspec": {
   "display_name": "Python 3",
   "language": "python",
   "name": "python3"
  },
  "language_info": {
   "codemirror_mode": {
    "name": "ipython",
    "version": 3
   },
   "file_extension": ".py",
   "mimetype": "text/x-python",
   "name": "python",
   "nbconvert_exporter": "python",
   "pygments_lexer": "ipython3",
   "version": "3.8.8"
  }
 },
 "nbformat": 4,
 "nbformat_minor": 5
}
