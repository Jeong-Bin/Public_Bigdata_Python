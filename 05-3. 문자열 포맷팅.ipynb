{
 "cells": [
  {
   "cell_type": "code",
   "execution_count": 1,
   "id": "bc73a738-f403-4279-b76b-a463c4cc4235",
   "metadata": {},
   "outputs": [],
   "source": [
    "# 60"
   ]
  },
  {
   "cell_type": "code",
   "execution_count": 1,
   "id": "2c21e039-e203-4f48-8a15-d0fde8f69668",
   "metadata": {},
   "outputs": [],
   "source": [
    "name, age, phone = '홍길동', 25, '010-111-2222'"
   ]
  },
  {
   "cell_type": "markdown",
   "id": "ea2c0252-0409-4d46-ad49-d13a3372a1a2",
   "metadata": {},
   "source": [
    "### 방법 1"
   ]
  },
  {
   "cell_type": "code",
   "execution_count": 3,
   "id": "0d8275c6-1aea-4dd1-947b-6966e25069d7",
   "metadata": {},
   "outputs": [
    {
     "data": {
      "text/plain": [
       "'이름은 홍길동이고, 나이는 25세이며, 전화번호는 010-111-2222 입니다.'"
      ]
     },
     "execution_count": 3,
     "metadata": {},
     "output_type": "execute_result"
    }
   ],
   "source": [
    "소개 = \"이름은 {}이고, 나이는 {}세이며, 전화번호는 {} 입니다.\".format(name, age, phone)\n",
    "소개"
   ]
  },
  {
   "cell_type": "markdown",
   "id": "736d381d-cc7b-4e63-80f3-2dc7b2e557cd",
   "metadata": {},
   "source": [
    "### 방법 2"
   ]
  },
  {
   "cell_type": "code",
   "execution_count": 4,
   "id": "f449dea9-e522-46c0-84be-e2323466362e",
   "metadata": {},
   "outputs": [
    {
     "data": {
      "text/plain": [
       "'이름은 홍길동이고, 나이는 25세이며, 전화번호는 010-111-2222 입니다.'"
      ]
     },
     "execution_count": 4,
     "metadata": {},
     "output_type": "execute_result"
    }
   ],
   "source": [
    "소개 = \"이름은 {0}이고, 나이는 {2}세이며, 전화번호는 {1} 입니다.\".format(name, phone, age)\n",
    "소개"
   ]
  },
  {
   "cell_type": "markdown",
   "id": "cb78ddd1-d088-4453-b215-796a65a736bc",
   "metadata": {},
   "source": [
    "### 방법 3"
   ]
  },
  {
   "cell_type": "code",
   "execution_count": 5,
   "id": "de9d5055-533b-421d-b28d-f5d97dd48ca5",
   "metadata": {},
   "outputs": [
    {
     "data": {
      "text/plain": [
       "'이름은 홍길동이고, 나이는 25세이며, 전화번호는 010-111-2222 입니다.'"
      ]
     },
     "execution_count": 5,
     "metadata": {},
     "output_type": "execute_result"
    }
   ],
   "source": [
    "소개 = \"이름은 {a}이고, 나이는 {b}세이며, 전화번호는 {c} 입니다.\".format(c = phone, a = name, b = age)\n",
    "소개"
   ]
  },
  {
   "cell_type": "markdown",
   "id": "42add807-249d-42b2-8e64-762a794f95b8",
   "metadata": {},
   "source": [
    "### 방법 4 (추천!, 파이썬 3.6 이상의 버전에서만 가능)"
   ]
  },
  {
   "cell_type": "code",
   "execution_count": 6,
   "id": "d090d32b-46da-45c9-84cf-c9314e0bb08d",
   "metadata": {},
   "outputs": [
    {
     "data": {
      "text/plain": [
       "'이름은 홍길동이고, 나이는 25세이며, 전화번호는 010-111-2222 입니다.'"
      ]
     },
     "execution_count": 6,
     "metadata": {},
     "output_type": "execute_result"
    }
   ],
   "source": [
    "소개 = f\"이름은 {name}이고, 나이는 {age}세이며, 전화번호는 {phone} 입니다.\"\n",
    "소개"
   ]
  },
  {
   "cell_type": "code",
   "execution_count": null,
   "id": "0098140a-91cb-4238-98f0-105a025edf70",
   "metadata": {},
   "outputs": [],
   "source": []
  },
  {
   "cell_type": "markdown",
   "id": "1f55186a-993d-489d-a526-e3d604a1522c",
   "metadata": {},
   "source": [
    "### 숫자의 자릿수를 지정하고 0으로 채워넣기"
   ]
  },
  {
   "cell_type": "code",
   "execution_count": 7,
   "id": "48a4e76c-9c1e-404b-b215-fb8a23cdead8",
   "metadata": {
    "tags": []
   },
   "outputs": [],
   "source": [
    "jan, dec = 1, 12"
   ]
  },
  {
   "cell_type": "code",
   "execution_count": 11,
   "id": "1642474c-051e-4c84-8f88-a4d6e1516d9d",
   "metadata": {},
   "outputs": [
    {
     "name": "stdout",
     "output_type": "stream",
     "text": [
      "한 해의 시작은 01월\n",
      "한 해의 마지막은 12월\n"
     ]
    }
   ],
   "source": [
    "print(\"한 해의 시작은 {:02d}월\".format(jan))  # d는 정수를 뜻함\n",
    "print(\"한 해의 마지막은 {:02d}월\".format(dec))"
   ]
  },
  {
   "cell_type": "code",
   "execution_count": null,
   "id": "312cff6a-f4cb-4f69-bde2-293bbe5811c2",
   "metadata": {},
   "outputs": [],
   "source": []
  },
  {
   "cell_type": "markdown",
   "id": "f1a34217-3837-44d2-bbc5-656d67d30957",
   "metadata": {},
   "source": [
    "### 천 단위마다 , 넣기"
   ]
  },
  {
   "cell_type": "code",
   "execution_count": 9,
   "id": "d785f39c-6a48-4bf0-885e-9ae23dc042b8",
   "metadata": {},
   "outputs": [
    {
     "data": {
      "text/plain": [
       "'123,456,789'"
      ]
     },
     "execution_count": 9,
     "metadata": {},
     "output_type": "execute_result"
    }
   ],
   "source": [
    "val = 123456789\n",
    "money = \"{:,}\"\n",
    "money.format(val)"
   ]
  },
  {
   "cell_type": "code",
   "execution_count": null,
   "id": "60de4be7-be62-45dd-ab4d-50969fb78362",
   "metadata": {},
   "outputs": [],
   "source": []
  },
  {
   "cell_type": "markdown",
   "id": "9c708c3d-aa96-4838-ba08-9adabf928508",
   "metadata": {},
   "source": [
    "### 기타 방법들"
   ]
  },
  {
   "cell_type": "code",
   "execution_count": 10,
   "id": "ac31523a-1c83-4695-bf75-3c9b81c850b4",
   "metadata": {},
   "outputs": [
    {
     "data": {
      "text/plain": [
       "'3, 3.000000, 3.0, 3.14, 33.33%'"
      ]
     },
     "execution_count": 10,
     "metadata": {},
     "output_type": "execute_result"
    }
   ],
   "source": [
    "'{}, {:f}, {:.1f}, {:.2f}, {:.2%}'.format(3, 3, 3, 3.1415, 1/3)"
   ]
  }
 ],
 "metadata": {
  "kernelspec": {
   "display_name": "Python 3",
   "language": "python",
   "name": "python3"
  },
  "language_info": {
   "codemirror_mode": {
    "name": "ipython",
    "version": 3
   },
   "file_extension": ".py",
   "mimetype": "text/x-python",
   "name": "python",
   "nbconvert_exporter": "python",
   "pygments_lexer": "ipython3",
   "version": "3.8.8"
  }
 },
 "nbformat": 4,
 "nbformat_minor": 5
}
