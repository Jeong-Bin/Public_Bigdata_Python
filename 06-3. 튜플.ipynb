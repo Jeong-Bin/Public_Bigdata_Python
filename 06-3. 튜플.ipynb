{
 "cells": [
  {
   "cell_type": "code",
   "execution_count": 1,
   "id": "7ad6fe3a-22de-4a90-be9b-aff041ff6551",
   "metadata": {},
   "outputs": [],
   "source": [
    "# r0"
   ]
  },
  {
   "cell_type": "markdown",
   "id": "11ea401e-560a-4044-893d-f514f682360d",
   "metadata": {},
   "source": [
    "### 튜플은 리스트와 유사하나 원소 변경이 불가능함"
   ]
  },
  {
   "cell_type": "code",
   "execution_count": 1,
   "id": "14916e74-210b-416a-8e49-5a0c3029d0df",
   "metadata": {},
   "outputs": [
    {
     "data": {
      "text/plain": [
       "('A', 'B', 'C', 'D', 'E')"
      ]
     },
     "execution_count": 1,
     "metadata": {},
     "output_type": "execute_result"
    }
   ],
   "source": [
    "tuple1 = ('A', 'B', 'C', 'D', 'E')\n",
    "tuple1"
   ]
  },
  {
   "cell_type": "code",
   "execution_count": 2,
   "id": "afad0e59-dcbc-4dd4-adad-80da40b4f83c",
   "metadata": {},
   "outputs": [
    {
     "ename": "TypeError",
     "evalue": "'tuple' object does not support item assignment",
     "output_type": "error",
     "traceback": [
      "\u001b[1;31m---------------------------------------------------------------------------\u001b[0m",
      "\u001b[1;31mTypeError\u001b[0m                                 Traceback (most recent call last)",
      "\u001b[1;32m<ipython-input-2-e643d469a4b0>\u001b[0m in \u001b[0;36m<module>\u001b[1;34m\u001b[0m\n\u001b[1;32m----> 1\u001b[1;33m \u001b[0mtuple1\u001b[0m\u001b[1;33m[\u001b[0m\u001b[1;36m0\u001b[0m\u001b[1;33m]\u001b[0m \u001b[1;33m=\u001b[0m \u001b[1;34m'a'\u001b[0m\u001b[1;33m\u001b[0m\u001b[1;33m\u001b[0m\u001b[0m\n\u001b[0m",
      "\u001b[1;31mTypeError\u001b[0m: 'tuple' object does not support item assignment"
     ]
    }
   ],
   "source": [
    "tuple1[0] = 'a'"
   ]
  },
  {
   "cell_type": "markdown",
   "id": "bd52aaf4-2dc7-4586-a9a2-bdc49b244ff3",
   "metadata": {},
   "source": [
    "### 튜플은 index()와 count()만 사용 가능"
   ]
  },
  {
   "cell_type": "code",
   "execution_count": 3,
   "id": "f4cd122d-6523-451d-a138-92ccb79d7cf6",
   "metadata": {},
   "outputs": [
    {
     "data": {
      "text/plain": [
       "1"
      ]
     },
     "execution_count": 3,
     "metadata": {},
     "output_type": "execute_result"
    }
   ],
   "source": [
    "tuple1.count('C')"
   ]
  },
  {
   "cell_type": "code",
   "execution_count": 4,
   "id": "0f681821-e148-4480-852b-2cff4f331187",
   "metadata": {},
   "outputs": [
    {
     "data": {
      "text/plain": [
       "0"
      ]
     },
     "execution_count": 4,
     "metadata": {},
     "output_type": "execute_result"
    }
   ],
   "source": [
    "tuple1.index('A')"
   ]
  },
  {
   "cell_type": "markdown",
   "id": "68614a02-084d-4d46-9138-c2b08e7d4ace",
   "metadata": {},
   "source": [
    "### 튜플을 리스트로 변환하기"
   ]
  },
  {
   "cell_type": "code",
   "execution_count": 5,
   "id": "e6f6bd8c-74c9-42ae-8e34-2ff08f87c0db",
   "metadata": {},
   "outputs": [],
   "source": [
    "list1 = list(tuple1)"
   ]
  },
  {
   "cell_type": "code",
   "execution_count": 6,
   "id": "abf28c5b-4497-4944-93df-2327799cbc71",
   "metadata": {},
   "outputs": [
    {
     "data": {
      "text/plain": [
       "['A', 'B', 'C', 'D', 'E', 'a']"
      ]
     },
     "execution_count": 6,
     "metadata": {},
     "output_type": "execute_result"
    }
   ],
   "source": [
    "list1.append('a')\n",
    "list1"
   ]
  },
  {
   "cell_type": "markdown",
   "id": "1761d64a-c514-459a-b01b-b14a801c0687",
   "metadata": {},
   "source": [
    "### 리스트를 튜플로 변환하기"
   ]
  },
  {
   "cell_type": "code",
   "execution_count": 8,
   "id": "f9a1dce1-395f-4a7a-96bb-dcdd24807f68",
   "metadata": {},
   "outputs": [],
   "source": [
    "tuple2 = tuple(list1)"
   ]
  },
  {
   "cell_type": "code",
   "execution_count": 9,
   "id": "55365a81-98b7-411a-9c5e-45923b4fff43",
   "metadata": {},
   "outputs": [
    {
     "data": {
      "text/plain": [
       "('A', 'B', 'C', 'D', 'E', 'a')"
      ]
     },
     "execution_count": 9,
     "metadata": {},
     "output_type": "execute_result"
    }
   ],
   "source": [
    "tuple2"
   ]
  }
 ],
 "metadata": {
  "kernelspec": {
   "display_name": "Python 3",
   "language": "python",
   "name": "python3"
  },
  "language_info": {
   "codemirror_mode": {
    "name": "ipython",
    "version": 3
   },
   "file_extension": ".py",
   "mimetype": "text/x-python",
   "name": "python",
   "nbconvert_exporter": "python",
   "pygments_lexer": "ipython3",
   "version": "3.8.8"
  }
 },
 "nbformat": 4,
 "nbformat_minor": 5
}
