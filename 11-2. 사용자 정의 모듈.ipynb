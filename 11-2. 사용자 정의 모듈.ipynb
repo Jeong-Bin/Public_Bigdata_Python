{
 "cells": [
  {
   "cell_type": "code",
   "execution_count": 1,
   "id": "76ee5d64-0344-4984-90ec-e38d8e87e2b4",
   "metadata": {},
   "outputs": [],
   "source": [
    "# 121"
   ]
  },
  {
   "cell_type": "markdown",
   "id": "92d5f48e-164e-4a3f-80c0-984eebdaa09c",
   "metadata": {},
   "source": [
    "### 모듈 만들어 사용하기"
   ]
  },
  {
   "cell_type": "code",
   "execution_count": 7,
   "id": "085321e2-4942-4d66-9e5f-0f1d995b28e0",
   "metadata": {
    "tags": []
   },
   "outputs": [
    {
     "data": {
      "text/plain": [
       "\"\\n1. 먼저 경로 안에 myprint.ipynb 폴더를 만들어서 아래와 같이 함수를 입력한다.\\ndef print1(st):\\n    print('*' * 50)\\n    print(st)\\n    print('*' * 50)\\n    \\ndef print2(st):\\n    print('-' * 50)\\n    print(st)\\n    print('-' * 50)\\n    \\n2. 폴더를 선택하고 File - Export Notebook As - Executable Script 로 .py 형식으로 바꿔 추출하고\\n해당 폴더를 같은 경로로 옮기면 myprint.py 안의 print1,2 함수를 사용할 수 있게 된다.\\n\""
      ]
     },
     "execution_count": 7,
     "metadata": {},
     "output_type": "execute_result"
    }
   ],
   "source": [
    "'''\n",
    "1. 먼저 경로 안에 myprint.ipynb 파일 만들어서 아래와 같이 함수를 입력한다.\n",
    "def print1(st):\n",
    "    print('*' * 50)\n",
    "    print(st)\n",
    "    print('*' * 50)\n",
    "    \n",
    "def print2(st):\n",
    "    print('-' * 50)\n",
    "    print(st)\n",
    "    print('-' * 50)\n",
    "    \n",
    "2. 폴더를 선택하고 File - Export Notebook As - Executable Script 로 .py 형식으로 바꿔 추출하고\n",
    "해당 폴더를 같은 경로로 옮기면 myprint.py 안의 print1,2 함수를 사용할 수 있게 된다.\n",
    "'''"
   ]
  },
  {
   "cell_type": "code",
   "execution_count": 2,
   "id": "8a0e8773-8d73-4b64-b313-0ae969d94dc9",
   "metadata": {},
   "outputs": [],
   "source": [
    "import myprint"
   ]
  },
  {
   "cell_type": "code",
   "execution_count": 3,
   "id": "cb6c8965-fc84-49b2-ac26-1794d63b8947",
   "metadata": {},
   "outputs": [],
   "source": [
    "hello = 'Hello World Python'"
   ]
  },
  {
   "cell_type": "code",
   "execution_count": 9,
   "id": "89ee0eed-bcd8-4803-a729-da240aac5277",
   "metadata": {},
   "outputs": [
    {
     "name": "stdout",
     "output_type": "stream",
     "text": [
      "**************************************************\n",
      "Hello World Python\n",
      "**************************************************\n"
     ]
    }
   ],
   "source": [
    "# myprint. 을 입력하고 Tab을 눌러 print1,2 함수가 있는 것을 확인할 수 있다.\n",
    "myprint.print1(hello)"
   ]
  },
  {
   "cell_type": "code",
   "execution_count": 5,
   "id": "50fa276e-24b7-4c0d-95fd-cbb17c200084",
   "metadata": {},
   "outputs": [
    {
     "name": "stdout",
     "output_type": "stream",
     "text": [
      "--------------------------------------------------\n",
      "Hello World Python\n",
      "--------------------------------------------------\n"
     ]
    }
   ],
   "source": [
    "myprint.print2(hello)"
   ]
  },
  {
   "cell_type": "code",
   "execution_count": null,
   "id": "8f302fe7-53d0-49b4-8af5-cb1c618d3ed2",
   "metadata": {},
   "outputs": [],
   "source": []
  },
  {
   "cell_type": "markdown",
   "id": "c41ee349-d699-420c-b76d-c13ae543c59f",
   "metadata": {},
   "source": [
    "### 임의 패키지 안에 모듈 만들어 사용하기"
   ]
  },
  {
   "cell_type": "code",
   "execution_count": 14,
   "id": "24f9828e-ebf1-4b52-9504-e61a0af7cd54",
   "metadata": {},
   "outputs": [
    {
     "data": {
      "text/plain": [
       "\"\\n1. 먼저 같은 경로 안에 mymodule 이라는 폴더를 만든다.\\n\\n2. mymodule 폴더 안에 myprint2.ipynb 파일을 만들어서 아래와 같이 함수를 입력한다.\\ndef print3(st):\\n    print('*' * 50)\\n    print(st)\\n    print('-' * 50)\\n    \\ndef print4(st):\\n    print('-' * 50)\\n    print(st)\\n    print('*' * 50)\\n    \\n2. 파일 선택하고 File - Export Notebook As - Executable Script 로 .py 형식으로 바꿔 추출하고\\n해당 파일을 같은 mymodule 폴더 안에 옮기면 myprint2.py 안의 print3,4 함수를 사용할 수 있게 된다.\\n\""
      ]
     },
     "execution_count": 14,
     "metadata": {},
     "output_type": "execute_result"
    }
   ],
   "source": [
    "'''\n",
    "1. 먼저 같은 경로 안에 mymodule 이라는 폴더를 만든다.\n",
    "\n",
    "2. mymodule 폴더 안에 myprint2.ipynb 파일을 만들어서 아래와 같이 함수를 입력한다.\n",
    "def print3(st):\n",
    "    print('*' * 50)\n",
    "    print(st)\n",
    "    print('-' * 50)\n",
    "    \n",
    "def print4(st):\n",
    "    print('-' * 50)\n",
    "    print(st)\n",
    "    print('*' * 50)\n",
    "    \n",
    "2. 파일 선택하고 File - Export Notebook As - Executable Script 로 .py 형식으로 바꿔 추출하고\n",
    "해당 파일을 같은 mymodule 폴더 안에 옮기면 myprint2.py 안의 print3,4 함수를 사용할 수 있게 된다.\n",
    "'''"
   ]
  },
  {
   "cell_type": "code",
   "execution_count": 8,
   "id": "2e48f145-38d6-4552-a0ee-409c3b963a4a",
   "metadata": {},
   "outputs": [],
   "source": [
    "from mymodule import myprint2"
   ]
  },
  {
   "cell_type": "code",
   "execution_count": 10,
   "id": "f454723d-1e3f-4bf9-b3f1-e7663515ad95",
   "metadata": {},
   "outputs": [
    {
     "name": "stdout",
     "output_type": "stream",
     "text": [
      "**************************************************\n",
      "Hello World Python\n",
      "--------------------------------------------------\n"
     ]
    }
   ],
   "source": [
    "myprint2.print3(hello)"
   ]
  },
  {
   "cell_type": "code",
   "execution_count": 11,
   "id": "9f758e89-4658-49f6-9827-eb0072417fe7",
   "metadata": {},
   "outputs": [
    {
     "name": "stdout",
     "output_type": "stream",
     "text": [
      "--------------------------------------------------\n",
      "Hello World Python\n",
      "**************************************************\n"
     ]
    }
   ],
   "source": [
    "myprint2.print4(hello)"
   ]
  },
  {
   "cell_type": "code",
   "execution_count": null,
   "id": "0a4cd84f-5854-4532-9a41-eb018a37e814",
   "metadata": {},
   "outputs": [],
   "source": []
  }
 ],
 "metadata": {
  "kernelspec": {
   "display_name": "Python 3",
   "language": "python",
   "name": "python3"
  },
  "language_info": {
   "codemirror_mode": {
    "name": "ipython",
    "version": 3
   },
   "file_extension": ".py",
   "mimetype": "text/x-python",
   "name": "python",
   "nbconvert_exporter": "python",
   "pygments_lexer": "ipython3",
   "version": "3.8.8"
  }
 },
 "nbformat": 4,
 "nbformat_minor": 5
}
