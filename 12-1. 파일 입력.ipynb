{
 "cells": [
  {
   "cell_type": "code",
   "execution_count": 1,
   "id": "f62f2c0c-ae61-4fc7-ae74-bd7f4c73f025",
   "metadata": {},
   "outputs": [],
   "source": [
    "# 126"
   ]
  },
  {
   "cell_type": "markdown",
   "id": "d8bb2d87-39b2-4491-9261-f56352dfcc36",
   "metadata": {},
   "source": [
    "## 파일 읽기 작업 과정\n",
    "\n",
    "1. 파일 객체 생성\n",
    "   <br> 파일객체 = open(파일경로/파일명, 모드)\n",
    "\n",
    "2. 파일 읽기(라인 단위)\n",
    "   <br> for 변수 in 파일객체\n",
    "\n",
    "3. 파일객체 닫기 \n",
    "   <br> 파일객체.close()"
   ]
  },
  {
   "cell_type": "code",
   "execution_count": null,
   "id": "20894c9b-573e-48cd-96b2-1ee5cbd7e814",
   "metadata": {},
   "outputs": [],
   "source": [
    "# 먼저 원하는 경로에 텍스트 파일을 하나 만든다."
   ]
  },
  {
   "cell_type": "code",
   "execution_count": 4,
   "id": "7ea15f29-8bf0-4d44-b062-f5e6dde2aab2",
   "metadata": {},
   "outputs": [],
   "source": [
    "fr = open('./12-1. hello.txt', 'r')  # 현재 경로에 12-1. hello 라는 이름의 메모장 파일을 읽는다. r은 읽기모드로 열겠다는 뜻"
   ]
  },
  {
   "cell_type": "code",
   "execution_count": 5,
   "id": "9d01504d-5102-435d-968f-a9fb2ca9efda",
   "metadata": {},
   "outputs": [
    {
     "name": "stdout",
     "output_type": "stream",
     "text": [
      "Hello World Python!\n",
      "\n",
      "Welcome to Python World!!\n"
     ]
    }
   ],
   "source": [
    "for line in fr:  # 1개 라인씩 읽어서 출력하기\n",
    "    print(line)"
   ]
  },
  {
   "cell_type": "code",
   "execution_count": 6,
   "id": "751149d8-2119-4dad-9abf-2d8dc05b6418",
   "metadata": {},
   "outputs": [],
   "source": [
    "fr.close()  # 닫기"
   ]
  },
  {
   "cell_type": "code",
   "execution_count": null,
   "id": "63bf8634-80bf-4130-9c11-5deebcf1cfc2",
   "metadata": {},
   "outputs": [],
   "source": []
  },
  {
   "cell_type": "markdown",
   "id": "013ae350-d22b-46d5-9579-eb5556b8f0c0",
   "metadata": {},
   "source": [
    "## with 구문을 사용해 파일 읽기\n",
    "- close 를 하지 않아도 돼서 close를 하지 않아 오류가 발생하는 실수를 방지할 수 있다.\n",
    "\n",
    "1. 파일 객체 생성\n",
    "   <br> with open(파일경로/파일명, 모드) as 파일객체\n",
    "\n",
    "2. 파일 읽기(라인 단위)\n",
    "   <br> for 변수 in 파일객체"
   ]
  },
  {
   "cell_type": "code",
   "execution_count": 8,
   "id": "00f8073e-55ff-4254-afb6-6957bafb4d5d",
   "metadata": {},
   "outputs": [
    {
     "name": "stdout",
     "output_type": "stream",
     "text": [
      "Hello World Python!\n",
      "\n",
      "Welcome to Python World!!\n"
     ]
    }
   ],
   "source": [
    "with open('./12-1. hello.txt', 'r') as fr:\n",
    "    for line in fr:  \n",
    "        print(line)"
   ]
  },
  {
   "cell_type": "code",
   "execution_count": null,
   "id": "f2cacb77-a346-43e7-8589-4f0e3a81bc4b",
   "metadata": {},
   "outputs": [],
   "source": []
  },
  {
   "cell_type": "code",
   "execution_count": 9,
   "id": "e0a11637-ae15-42d1-a8e7-440aa3a3dfc0",
   "metadata": {},
   "outputs": [
    {
     "data": {
      "text/plain": [
       "'\\n파일 읽기/쓰기 모드 종류\\n- r : 읽기\\n- w : 쓰기. 동일 경로명/파일명 존재시 overwrite(덮어쓰기)\\n- x : 쓰기. 동일 경로명/파일명 존재시 error\\n- a : 쓰기. 동일 경로명/파일명 존재시 append(뒤에 추가)\\n- + : 읽기/쓰기\\n'"
      ]
     },
     "execution_count": 9,
     "metadata": {},
     "output_type": "execute_result"
    }
   ],
   "source": [
    "'''\n",
    "파일 읽기/쓰기 모드 종류\n",
    "- r : 읽기\n",
    "- w : 쓰기. 동일 경로명/파일명 존재시 overwrite(덮어쓰기)\n",
    "- x : 쓰기. 동일 경로명/파일명 존재시 error\n",
    "- a : 쓰기. 동일 경로명/파일명 존재시 append(뒤에 추가)\n",
    "- + : 읽기/쓰기\n",
    "'''"
   ]
  }
 ],
 "metadata": {
  "kernelspec": {
   "display_name": "Python 3",
   "language": "python",
   "name": "python3"
  },
  "language_info": {
   "codemirror_mode": {
    "name": "ipython",
    "version": 3
   },
   "file_extension": ".py",
   "mimetype": "text/x-python",
   "name": "python",
   "nbconvert_exporter": "python",
   "pygments_lexer": "ipython3",
   "version": "3.8.8"
  }
 },
 "nbformat": 4,
 "nbformat_minor": 5
}
