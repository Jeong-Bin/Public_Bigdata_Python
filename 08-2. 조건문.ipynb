{
 "cells": [
  {
   "cell_type": "code",
   "execution_count": 1,
   "id": "8f7ef3af-7483-40e5-8fb2-bf43610ec05e",
   "metadata": {},
   "outputs": [],
   "source": [
    "# 86"
   ]
  },
  {
   "cell_type": "code",
   "execution_count": 1,
   "id": "45bf1965-d25a-4161-aea8-439be110b9fd",
   "metadata": {},
   "outputs": [],
   "source": [
    "x, y = 10, 5"
   ]
  },
  {
   "cell_type": "code",
   "execution_count": 2,
   "id": "468a88a6-4ad7-4876-b281-c5bfb96edfb2",
   "metadata": {},
   "outputs": [
    {
     "name": "stdout",
     "output_type": "stream",
     "text": [
      "x가 y보다 큽니다.\n"
     ]
    }
   ],
   "source": [
    "if x > y:\n",
    "    print('x가 y보다 큽니다.')"
   ]
  },
  {
   "cell_type": "code",
   "execution_count": null,
   "id": "b005aed5-6e41-4650-8b16-78805ad32b4b",
   "metadata": {},
   "outputs": [],
   "source": []
  },
  {
   "cell_type": "code",
   "execution_count": 3,
   "id": "f4d0a378-de6f-4a78-91ab-aa0c0a1f0a00",
   "metadata": {
    "tags": []
   },
   "outputs": [],
   "source": [
    "x, y = 5, 10"
   ]
  },
  {
   "cell_type": "code",
   "execution_count": 4,
   "id": "0ca8513f-38ee-45e7-97bc-de4d38a383bb",
   "metadata": {},
   "outputs": [
    {
     "name": "stdout",
     "output_type": "stream",
     "text": [
      "x가 y보다 작습니다.\n"
     ]
    }
   ],
   "source": [
    "if x > y:\n",
    "    print('x가 y보다 큽니다.')\n",
    "else:\n",
    "    print('x가 y보다 작습니다.')"
   ]
  },
  {
   "cell_type": "code",
   "execution_count": null,
   "id": "05d71d32-d9a9-48ee-81d4-fc670e9344dd",
   "metadata": {},
   "outputs": [],
   "source": []
  },
  {
   "cell_type": "code",
   "execution_count": 9,
   "id": "3be678ea-ffbc-424c-8ee0-2580d1cddb1b",
   "metadata": {},
   "outputs": [],
   "source": [
    "x, y = 10, 10"
   ]
  },
  {
   "cell_type": "code",
   "execution_count": 11,
   "id": "7721f414-963b-47d7-a113-66be4f480844",
   "metadata": {},
   "outputs": [
    {
     "name": "stdout",
     "output_type": "stream",
     "text": [
      "x와 y가 같습니다.\n"
     ]
    }
   ],
   "source": [
    "if x > y:\n",
    "    print('x가 y보다 큽니다.')\n",
    "elif x == y:\n",
    "    print('x와 y가 같습니다.')\n",
    "elif x < y:\n",
    "    print('x가 y보다 작습니다.')"
   ]
  },
  {
   "cell_type": "code",
   "execution_count": null,
   "id": "f4392865-982a-43df-a108-18460c21940b",
   "metadata": {},
   "outputs": [],
   "source": []
  },
  {
   "cell_type": "code",
   "execution_count": 7,
   "id": "cbf2eb77-ef71-4356-9a3e-1a95f2fa8127",
   "metadata": {},
   "outputs": [],
   "source": [
    "score = 90"
   ]
  },
  {
   "cell_type": "code",
   "execution_count": 12,
   "id": "1db4b51a-7f99-459e-a9d0-c16b14bfbe3a",
   "metadata": {},
   "outputs": [
    {
     "name": "stdout",
     "output_type": "stream",
     "text": [
      "A학점입니다.\n"
     ]
    }
   ],
   "source": [
    "if score >= 90:\n",
    "    print('A학점입니다.')\n",
    "elif score >= 80:\n",
    "    print('B학점입니다.')\n",
    "elif score >= 70:\n",
    "    print('C학점입니다.')\n",
    "elif score >= 60:\n",
    "    print('D학점입니다.')\n",
    "else:\n",
    "    print('F학점입니다.')"
   ]
  },
  {
   "cell_type": "code",
   "execution_count": null,
   "id": "eaf46305-3c4d-4890-a9c1-9d1334ec3ead",
   "metadata": {},
   "outputs": [],
   "source": []
  },
  {
   "cell_type": "markdown",
   "id": "3742cd47-6266-42e2-b956-ed395dfd3476",
   "metadata": {},
   "source": [
    "### 들여쓰기에 따라 결과가 달라질 수 있다."
   ]
  },
  {
   "cell_type": "code",
   "execution_count": 1,
   "id": "9055cff6-0ba2-4230-ba96-fdcca31388e9",
   "metadata": {},
   "outputs": [
    {
     "name": "stdout",
     "output_type": "stream",
     "text": [
      "a는 True입니다.\n",
      "True End...\n",
      "False End...\n"
     ]
    }
   ],
   "source": [
    "a = True\n",
    "if a:\n",
    "    print(\"a는 True입니다.\")\n",
    "    print(\"True End...\")\n",
    "else:\n",
    "    print(\"a는 False입니다.\")\n",
    "print('False End...')"
   ]
  },
  {
   "cell_type": "code",
   "execution_count": 2,
   "id": "086e7e0a-461e-4bb8-a6be-842a91f13311",
   "metadata": {},
   "outputs": [
    {
     "name": "stdout",
     "output_type": "stream",
     "text": [
      "a는 True입니다.\n",
      "True End...\n"
     ]
    }
   ],
   "source": [
    "a = True\n",
    "if a:\n",
    "    print(\"a는 True입니다.\")\n",
    "    print(\"True End...\")\n",
    "else:\n",
    "    print(\"a는 False입니다.\")\n",
    "    print('False End...')"
   ]
  },
  {
   "cell_type": "code",
   "execution_count": null,
   "id": "e6ddef45-7445-4a29-a48c-3f1eabe34c18",
   "metadata": {},
   "outputs": [],
   "source": []
  }
 ],
 "metadata": {
  "kernelspec": {
   "display_name": "Python 3",
   "language": "python",
   "name": "python3"
  },
  "language_info": {
   "codemirror_mode": {
    "name": "ipython",
    "version": 3
   },
   "file_extension": ".py",
   "mimetype": "text/x-python",
   "name": "python",
   "nbconvert_exporter": "python",
   "pygments_lexer": "ipython3",
   "version": "3.8.8"
  }
 },
 "nbformat": 4,
 "nbformat_minor": 5
}
