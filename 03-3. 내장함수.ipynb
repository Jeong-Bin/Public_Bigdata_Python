{
 "cells": [
  {
   "cell_type": "code",
   "execution_count": 1,
   "id": "822dccd6-058c-4a22-a212-bfbd01b5b045",
   "metadata": {},
   "outputs": [],
   "source": [
    "# 35"
   ]
  },
  {
   "cell_type": "markdown",
   "id": "bd3d605d-3219-4862-ae51-156f4b2fa140",
   "metadata": {
    "tags": []
   },
   "source": [
    "# print 함수"
   ]
  },
  {
   "cell_type": "code",
   "execution_count": 1,
   "id": "9bd860f0-b76b-430e-94a0-84b04fa0563a",
   "metadata": {},
   "outputs": [
    {
     "name": "stdout",
     "output_type": "stream",
     "text": [
      "True\n"
     ]
    }
   ],
   "source": [
    "a = True\n",
    "print(a)"
   ]
  },
  {
   "cell_type": "code",
   "execution_count": 2,
   "id": "8e6e55e5-c037-4ad3-9ba9-c795bdd1eb14",
   "metadata": {},
   "outputs": [
    {
     "name": "stdout",
     "output_type": "stream",
     "text": [
      "Hello World Python\n"
     ]
    }
   ],
   "source": [
    "print('Hello World Python')"
   ]
  },
  {
   "cell_type": "code",
   "execution_count": 3,
   "id": "a1572d8d-8776-4dfd-b7d2-68c4c6c26efb",
   "metadata": {},
   "outputs": [
    {
     "name": "stdout",
     "output_type": "stream",
     "text": [
      "a 1\n"
     ]
    }
   ],
   "source": [
    "print('a', 1)"
   ]
  },
  {
   "cell_type": "code",
   "execution_count": 4,
   "id": "d4e0155f-8463-4f07-9f66-b0e244ca682c",
   "metadata": {},
   "outputs": [
    {
     "name": "stdout",
     "output_type": "stream",
     "text": [
      "a:1\n"
     ]
    }
   ],
   "source": [
    "print('a', 1, sep=':')"
   ]
  },
  {
   "cell_type": "code",
   "execution_count": 5,
   "id": "37ddbbd7-1ccd-444b-8526-35cdeab1ae5d",
   "metadata": {},
   "outputs": [
    {
     "name": "stdout",
     "output_type": "stream",
     "text": [
      "a:1."
     ]
    }
   ],
   "source": [
    "print('a', 1, sep=':', end='.')"
   ]
  },
  {
   "cell_type": "markdown",
   "id": "2e655d85-854d-478a-adfb-e3a8328ede3c",
   "metadata": {},
   "source": [
    "# input 함수"
   ]
  },
  {
   "cell_type": "code",
   "execution_count": 18,
   "id": "7e0ac61f-dbeb-446d-a080-b1a010103b53",
   "metadata": {},
   "outputs": [
    {
     "name": "stdin",
     "output_type": "stream",
     "text": [
      " hello\n"
     ]
    },
    {
     "data": {
      "text/plain": [
       "'hello'"
      ]
     },
     "execution_count": 18,
     "metadata": {},
     "output_type": "execute_result"
    }
   ],
   "source": [
    "input()"
   ]
  },
  {
   "cell_type": "code",
   "execution_count": 19,
   "id": "98929ccb-a6f6-4cb1-85ae-fc757ba8071e",
   "metadata": {},
   "outputs": [
    {
     "name": "stdin",
     "output_type": "stream",
     "text": [
      "프로그램 언어 :  Python\n"
     ]
    },
    {
     "data": {
      "text/plain": [
       "'Python'"
      ]
     },
     "execution_count": 19,
     "metadata": {},
     "output_type": "execute_result"
    }
   ],
   "source": [
    "input('프로그램 언어 : ')"
   ]
  },
  {
   "cell_type": "markdown",
   "id": "bbf11f27-cb95-44b1-af61-c4abb53c12f4",
   "metadata": {
    "tags": []
   },
   "source": [
    "# round 함수"
   ]
  },
  {
   "cell_type": "code",
   "execution_count": 10,
   "id": "5021c003-47c9-4ba1-97fb-89215c00ff3d",
   "metadata": {
    "tags": []
   },
   "outputs": [
    {
     "data": {
      "text/plain": [
       "3"
      ]
     },
     "execution_count": 10,
     "metadata": {},
     "output_type": "execute_result"
    }
   ],
   "source": [
    "round(3.151592)"
   ]
  },
  {
   "cell_type": "code",
   "execution_count": 11,
   "id": "d23b5c48-e3f5-4325-ac81-5030faef748a",
   "metadata": {},
   "outputs": [
    {
     "data": {
      "text/plain": [
       "3.14"
      ]
     },
     "execution_count": 11,
     "metadata": {},
     "output_type": "execute_result"
    }
   ],
   "source": [
    "round(3.141592, 2)"
   ]
  },
  {
   "cell_type": "code",
   "execution_count": 12,
   "id": "d49a0da0-143d-4173-91e1-a8f3660a60bd",
   "metadata": {},
   "outputs": [
    {
     "data": {
      "text/plain": [
       "3.14159"
      ]
     },
     "execution_count": 12,
     "metadata": {},
     "output_type": "execute_result"
    }
   ],
   "source": [
    "round(3.141592, 5)"
   ]
  },
  {
   "cell_type": "markdown",
   "id": "360e070d-68d6-48f7-ab89-80ff32bc4d89",
   "metadata": {},
   "source": [
    "# 기타 내장함수"
   ]
  },
  {
   "cell_type": "code",
   "execution_count": 13,
   "id": "f0db7289-a663-4722-8a8e-21b1045ef36f",
   "metadata": {},
   "outputs": [
    {
     "data": {
      "text/plain": [
       "1000"
      ]
     },
     "execution_count": 13,
     "metadata": {},
     "output_type": "execute_result"
    }
   ],
   "source": [
    "max(10, 100, 1000)"
   ]
  },
  {
   "cell_type": "code",
   "execution_count": 14,
   "id": "2208b803-8afd-4249-b99d-c6ab97217b4e",
   "metadata": {},
   "outputs": [
    {
     "data": {
      "text/plain": [
       "10"
      ]
     },
     "execution_count": 14,
     "metadata": {},
     "output_type": "execute_result"
    }
   ],
   "source": [
    "min(10, 100, 1000)"
   ]
  },
  {
   "cell_type": "code",
   "execution_count": 15,
   "id": "45c4cc08-ec47-4d0c-a5a2-0e72b0f17ab8",
   "metadata": {},
   "outputs": [
    {
     "data": {
      "text/plain": [
       "16"
      ]
     },
     "execution_count": 15,
     "metadata": {},
     "output_type": "execute_result"
    }
   ],
   "source": [
    "pow(2, 4)  # 2**4"
   ]
  },
  {
   "cell_type": "code",
   "execution_count": 16,
   "id": "2789bfb0-e664-4568-814a-71d3ada26a19",
   "metadata": {},
   "outputs": [
    {
     "data": {
      "text/plain": [
       "18"
      ]
     },
     "execution_count": 16,
     "metadata": {},
     "output_type": "execute_result"
    }
   ],
   "source": [
    "len('Hello World Python')"
   ]
  },
  {
   "cell_type": "code",
   "execution_count": 20,
   "id": "1ada6a9b-7a12-45c7-9341-e543ad7f9040",
   "metadata": {},
   "outputs": [
    {
     "data": {
      "text/plain": [
       "[('a', '1'), ('b', '2'), ('c', '3')]"
      ]
     },
     "execution_count": 20,
     "metadata": {},
     "output_type": "execute_result"
    }
   ],
   "source": [
    "list(zip('abc', '123'))"
   ]
  },
  {
   "cell_type": "code",
   "execution_count": null,
   "id": "9a062f61-e6af-473d-a3c9-90e444999907",
   "metadata": {},
   "outputs": [],
   "source": []
  },
  {
   "cell_type": "code",
   "execution_count": 21,
   "id": "42740b36-d856-4c4c-bc0c-8f91a53892df",
   "metadata": {},
   "outputs": [],
   "source": [
    "hello = 'Hello World Python'"
   ]
  },
  {
   "cell_type": "code",
   "execution_count": 22,
   "id": "7425414f-23f6-44ce-b620-e9ff63e6e977",
   "metadata": {},
   "outputs": [
    {
     "name": "stdout",
     "output_type": "stream",
     "text": [
      "Hello World Python\n"
     ]
    }
   ],
   "source": [
    "print(hello)"
   ]
  },
  {
   "cell_type": "code",
   "execution_count": 23,
   "id": "c82d8c32-6fb8-44ba-8cce-1792c8331133",
   "metadata": {},
   "outputs": [
    {
     "data": {
      "text/plain": [
       "'Hello World Python'"
      ]
     },
     "execution_count": 23,
     "metadata": {},
     "output_type": "execute_result"
    }
   ],
   "source": [
    "hello"
   ]
  },
  {
   "cell_type": "code",
   "execution_count": 24,
   "id": "438c1d41-a4f7-4275-811b-48c38b42c62d",
   "metadata": {},
   "outputs": [
    {
     "data": {
      "text/plain": [
       "'Hello World Python'"
      ]
     },
     "execution_count": 24,
     "metadata": {},
     "output_type": "execute_result"
    }
   ],
   "source": [
    "hello\n",
    "hello"
   ]
  },
  {
   "cell_type": "code",
   "execution_count": null,
   "id": "3dbd9df3-e177-48e2-b9e1-40ba78277a88",
   "metadata": {},
   "outputs": [],
   "source": []
  }
 ],
 "metadata": {
  "kernelspec": {
   "display_name": "Python 3",
   "language": "python",
   "name": "python3"
  },
  "language_info": {
   "codemirror_mode": {
    "name": "ipython",
    "version": 3
   },
   "file_extension": ".py",
   "mimetype": "text/x-python",
   "name": "python",
   "nbconvert_exporter": "python",
   "pygments_lexer": "ipython3",
   "version": "3.8.8"
  }
 },
 "nbformat": 4,
 "nbformat_minor": 5
}
