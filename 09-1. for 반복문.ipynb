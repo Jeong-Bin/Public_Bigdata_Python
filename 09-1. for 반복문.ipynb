{
 "cells": [
  {
   "cell_type": "code",
   "execution_count": 17,
   "id": "938dde34-11dc-4d1c-be4e-f4af2be49e77",
   "metadata": {},
   "outputs": [],
   "source": [
    "# 94"
   ]
  },
  {
   "cell_type": "code",
   "execution_count": 1,
   "id": "26a527ff-ad00-4275-a177-bc50d4c99e61",
   "metadata": {},
   "outputs": [
    {
     "name": "stdout",
     "output_type": "stream",
     "text": [
      "1\n",
      "2\n",
      "3\n"
     ]
    }
   ],
   "source": [
    "for num in [1, 2, 3]:\n",
    "    print(num)"
   ]
  },
  {
   "cell_type": "code",
   "execution_count": 3,
   "id": "9a8dd81c-2627-44eb-851d-1179258d71a2",
   "metadata": {},
   "outputs": [
    {
     "name": "stdout",
     "output_type": "stream",
     "text": [
      "Hello\n",
      "World\n",
      "Python\n"
     ]
    }
   ],
   "source": [
    "for st in ['Hello', 'World', 'Python']:\n",
    "    print(st)"
   ]
  },
  {
   "cell_type": "markdown",
   "id": "f7c84542-791e-4895-ab94-4ab3b4ceb10a",
   "metadata": {},
   "source": [
    "### for 반복문과 딕셔너리"
   ]
  },
  {
   "cell_type": "code",
   "execution_count": 4,
   "id": "db61d693-3db5-4470-9813-4e0ee73a12c5",
   "metadata": {},
   "outputs": [],
   "source": [
    "score = {'국어':95, '영어':90, '수학':80}"
   ]
  },
  {
   "cell_type": "code",
   "execution_count": 8,
   "id": "77dcf221-9ad6-4da7-8795-c74850448b66",
   "metadata": {},
   "outputs": [
    {
     "name": "stdout",
     "output_type": "stream",
     "text": [
      "국어\n",
      "영어\n",
      "수학\n"
     ]
    }
   ],
   "source": [
    "for my_subject in score.keys():\n",
    "    print(my_subject)"
   ]
  },
  {
   "cell_type": "code",
   "execution_count": 9,
   "id": "7d3d2372-ade3-409b-b02a-a3aa291fca25",
   "metadata": {},
   "outputs": [
    {
     "name": "stdout",
     "output_type": "stream",
     "text": [
      "95\n",
      "90\n",
      "80\n"
     ]
    }
   ],
   "source": [
    "for my_score in score.values():\n",
    "    print(my_score)"
   ]
  },
  {
   "cell_type": "code",
   "execution_count": 7,
   "id": "485192cd-0577-4ded-9145-54abad748839",
   "metadata": {},
   "outputs": [
    {
     "name": "stdout",
     "output_type": "stream",
     "text": [
      "국어과목 점수는 95점 입니다.\n",
      "영어과목 점수는 90점 입니다.\n",
      "수학과목 점수는 80점 입니다.\n"
     ]
    }
   ],
   "source": [
    "for key, value in score.items():\n",
    "    print(f'{key}과목 점수는 {value}점 입니다.')"
   ]
  },
  {
   "cell_type": "code",
   "execution_count": null,
   "id": "8fab1590-d029-47ce-beaa-96e57f22f674",
   "metadata": {},
   "outputs": [],
   "source": []
  },
  {
   "cell_type": "markdown",
   "id": "e698992e-3a00-48ba-a8b0-764947c82ebf",
   "metadata": {},
   "source": [
    "### range() 함수\n",
    "- range(start=0, stop, step=1)\n",
    "- stopdptj -1한 값까지 반환"
   ]
  },
  {
   "cell_type": "code",
   "execution_count": 10,
   "id": "4e1e4e34-7d47-44c6-b34f-57caafc23a09",
   "metadata": {},
   "outputs": [
    {
     "data": {
      "text/plain": [
       "[0, 1, 2, 3, 4, 5, 6, 7, 8, 9]"
      ]
     },
     "execution_count": 10,
     "metadata": {},
     "output_type": "execute_result"
    }
   ],
   "source": [
    "list(range(10))"
   ]
  },
  {
   "cell_type": "code",
   "execution_count": 11,
   "id": "8114db8d-0486-4103-b4e3-f1b5f462aa1a",
   "metadata": {},
   "outputs": [
    {
     "data": {
      "text/plain": [
       "[1, 2, 3, 4, 5, 6, 7, 8, 9, 10]"
      ]
     },
     "execution_count": 11,
     "metadata": {},
     "output_type": "execute_result"
    }
   ],
   "source": [
    "list(range(1, 11))"
   ]
  },
  {
   "cell_type": "code",
   "execution_count": 12,
   "id": "eeb6a441-ad0d-4f1e-b75b-0c0112fb887f",
   "metadata": {},
   "outputs": [
    {
     "data": {
      "text/plain": [
       "[10, 9, 8, 7, 6, 5, 4, 3, 2, 1]"
      ]
     },
     "execution_count": 12,
     "metadata": {},
     "output_type": "execute_result"
    }
   ],
   "source": [
    "list(range(10, 0, -1))"
   ]
  },
  {
   "cell_type": "markdown",
   "id": "cb50536f-0df5-44c9-9332-0fbf4414c61a",
   "metadata": {},
   "source": [
    "### for 반복문과 range() 함수 "
   ]
  },
  {
   "cell_type": "code",
   "execution_count": 14,
   "id": "85a879d8-f740-4f7a-b909-0294a96e6035",
   "metadata": {},
   "outputs": [
    {
     "name": "stdout",
     "output_type": "stream",
     "text": [
      "1\n",
      "3\n",
      "5\n",
      "7\n",
      "9\n"
     ]
    }
   ],
   "source": [
    "for i in range(1, 11, 2):\n",
    "    print(i)"
   ]
  },
  {
   "cell_type": "code",
   "execution_count": 15,
   "id": "11329017-cc84-4628-a977-8b52403febef",
   "metadata": {},
   "outputs": [
    {
     "name": "stdout",
     "output_type": "stream",
     "text": [
      "0\n",
      "2\n",
      "4\n",
      "6\n",
      "8\n",
      "10\n"
     ]
    }
   ],
   "source": [
    "for i in range(0, 11, 2):\n",
    "    print(i)"
   ]
  },
  {
   "cell_type": "markdown",
   "id": "cd5824d1-3110-4a01-8dd0-fe66292e48a9",
   "metadata": {},
   "source": [
    "### for 반복문과 else 구문"
   ]
  },
  {
   "cell_type": "code",
   "execution_count": 16,
   "id": "bdfaca9b-a502-4b44-8057-24751685f296",
   "metadata": {},
   "outputs": [
    {
     "name": "stdout",
     "output_type": "stream",
     "text": [
      "2 X 1 = 2\n",
      "2 X 2 = 4\n",
      "2 X 3 = 6\n",
      "2 X 4 = 8\n",
      "2 X 5 = 10\n",
      "2 X 6 = 12\n",
      "2 X 7 = 14\n",
      "2 X 8 = 16\n",
      "2 X 9 = 18\n",
      "구구단 2단을 종료합니다.\n"
     ]
    }
   ],
   "source": [
    "# 구구단\n",
    "for i in range(1, 10):\n",
    "    ans = 2 * i\n",
    "    print(f'2 X {i} = {ans}')\n",
    "else:\n",
    "    print('구구단 2단을 종료합니다.')"
   ]
  },
  {
   "cell_type": "code",
   "execution_count": null,
   "id": "57400609-0708-4f18-a586-3320974fad4b",
   "metadata": {},
   "outputs": [],
   "source": []
  }
 ],
 "metadata": {
  "kernelspec": {
   "display_name": "Python 3",
   "language": "python",
   "name": "python3"
  },
  "language_info": {
   "codemirror_mode": {
    "name": "ipython",
    "version": 3
   },
   "file_extension": ".py",
   "mimetype": "text/x-python",
   "name": "python",
   "nbconvert_exporter": "python",
   "pygments_lexer": "ipython3",
   "version": "3.8.8"
  }
 },
 "nbformat": 4,
 "nbformat_minor": 5
}
