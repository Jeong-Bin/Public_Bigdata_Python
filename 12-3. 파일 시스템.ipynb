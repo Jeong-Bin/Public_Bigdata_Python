{
 "cells": [
  {
   "cell_type": "code",
   "execution_count": 1,
   "id": "b5f3b92f-788b-445f-b7af-8e6298eb93ff",
   "metadata": {},
   "outputs": [],
   "source": [
    "# 131"
   ]
  },
  {
   "cell_type": "markdown",
   "id": "0e1aac63-e7a8-46dd-af08-c97d029d727c",
   "metadata": {},
   "source": [
    "## 파일 시스템\n",
    "- os 모듈을 이용해 파일시스템에 접근한다.(os는 운영체제와 관련된 파이썬 모듈임)"
   ]
  },
  {
   "cell_type": "markdown",
   "id": "41096657-be0b-4d44-9bb2-9238a0cd91f5",
   "metadata": {},
   "source": [
    "### os.listdir()\n",
    "- 지정된 경로의 폴더와 파일 목록을 반환"
   ]
  },
  {
   "cell_type": "code",
   "execution_count": 5,
   "id": "9cd6110c-6ea9-42b9-94d0-05f82497c472",
   "metadata": {},
   "outputs": [
    {
     "data": {
      "text/plain": [
       "['.ipynb_checkpoints',\n",
       " '03-1. 연산자.ipynb',\n",
       " '03-3. 내장함수.ipynb',\n",
       " '04-1. 변수.ipynb',\n",
       " '04-2. 자료형.ipynb',\n",
       " '04-3. 형변환.ipynb',\n",
       " '05-1. 문자열.ipynb',\n",
       " '05-2. 문자열 함수.ipynb',\n",
       " '05-3. 문자열 포맷팅.ipynb',\n",
       " '06-1. 리스트.ipynb',\n",
       " '06-2. 리스트 인덱싱과 슬라이싱.ipynb',\n",
       " '06-3. 튜플.ipynb',\n",
       " '07-1. 셋.ipynb',\n",
       " '07-2. 셋의 집합연산.ipynb',\n",
       " '07-3. 딕셔너리.ipynb',\n",
       " '08-1. 비교&논리 연산자.ipynb',\n",
       " '08-2. 조건문.ipynb',\n",
       " '08-3. 중첩&복합 조건문.ipynb',\n",
       " '09-1. for 반복문.ipynb',\n",
       " '09-2. while 반복문.ipynb',\n",
       " '09-3. 리스트 컴프리헨션.ipynb',\n",
       " '10-1. 함수.ipynb',\n",
       " '10-2. 함수의 매개변수.ipynb',\n",
       " '11-1. 모듈 설치 및 활용.ipynb',\n",
       " '11-2. 사용자 정의 모듈.ipynb',\n",
       " '12-1. hello.txt',\n",
       " '12-1. 파일 입력.ipynb',\n",
       " '12-2. hello_write.txt',\n",
       " '12-2. 파일 출력.ipynb',\n",
       " '12-3. 파일 시스템.ipynb',\n",
       " 'hello.py',\n",
       " 'hello_write.txt',\n",
       " 'jupyter_lab.bat',\n",
       " 'mymodule',\n",
       " 'myprint.ipynb',\n",
       " 'myprint.py',\n",
       " '__pycache__',\n",
       " '실습(1).ipynb',\n",
       " '실습(2).ipynb',\n",
       " '실습(3).ipynb',\n",
       " '실습(4).ipynb',\n",
       " '실습(5).ipynb',\n",
       " '실습(6).ipynb']"
      ]
     },
     "execution_count": 5,
     "metadata": {},
     "output_type": "execute_result"
    }
   ],
   "source": [
    "import os\n",
    "os.listdir('.')  # ('.')이라고 하면 현재 경로"
   ]
  },
  {
   "cell_type": "code",
   "execution_count": null,
   "id": "64206946-cc0e-4f6d-807d-e21697dff3ab",
   "metadata": {},
   "outputs": [],
   "source": []
  },
  {
   "cell_type": "markdown",
   "id": "81ce6589-ed2f-4b2f-9561-50d982a7b590",
   "metadata": {},
   "source": [
    "### os.listdir() 함수와 필터링\n",
    "- 리스트 컴프리헨션을 이용해 필터링"
   ]
  },
  {
   "cell_type": "code",
   "execution_count": 6,
   "id": "9067588a-feb3-4866-a2f8-f24d3e16880e",
   "metadata": {},
   "outputs": [
    {
     "data": {
      "text/plain": [
       "['03-1. 연산자.ipynb',\n",
       " '03-3. 내장함수.ipynb',\n",
       " '04-1. 변수.ipynb',\n",
       " '04-2. 자료형.ipynb',\n",
       " '04-3. 형변환.ipynb',\n",
       " '05-1. 문자열.ipynb',\n",
       " '05-2. 문자열 함수.ipynb',\n",
       " '05-3. 문자열 포맷팅.ipynb',\n",
       " '06-1. 리스트.ipynb',\n",
       " '06-2. 리스트 인덱싱과 슬라이싱.ipynb',\n",
       " '06-3. 튜플.ipynb',\n",
       " '07-1. 셋.ipynb',\n",
       " '07-2. 셋의 집합연산.ipynb',\n",
       " '07-3. 딕셔너리.ipynb',\n",
       " '08-1. 비교&논리 연산자.ipynb',\n",
       " '08-2. 조건문.ipynb',\n",
       " '08-3. 중첩&복합 조건문.ipynb',\n",
       " '09-1. for 반복문.ipynb',\n",
       " '09-2. while 반복문.ipynb',\n",
       " '09-3. 리스트 컴프리헨션.ipynb',\n",
       " '10-1. 함수.ipynb',\n",
       " '10-2. 함수의 매개변수.ipynb',\n",
       " '11-1. 모듈 설치 및 활용.ipynb',\n",
       " '11-2. 사용자 정의 모듈.ipynb',\n",
       " '12-1. 파일 입력.ipynb',\n",
       " '12-2. 파일 출력.ipynb',\n",
       " '12-3. 파일 시스템.ipynb',\n",
       " 'myprint.ipynb',\n",
       " '실습(1).ipynb',\n",
       " '실습(2).ipynb',\n",
       " '실습(3).ipynb',\n",
       " '실습(4).ipynb',\n",
       " '실습(5).ipynb',\n",
       " '실습(6).ipynb']"
      ]
     },
     "execution_count": 6,
     "metadata": {},
     "output_type": "execute_result"
    }
   ],
   "source": [
    "file_list = os.listdir('.')\n",
    "file_ipynb = [f for f in file_list if f.endswith('.ipynb')]  # ipynb 파일만 선택\n",
    "file_ipynb"
   ]
  },
  {
   "cell_type": "code",
   "execution_count": null,
   "id": "54781e85-4852-44f8-bbe5-57f75cb2e7c4",
   "metadata": {},
   "outputs": [],
   "source": []
  },
  {
   "cell_type": "markdown",
   "id": "0e4ea248-fe9f-41f7-b427-16fed87054bc",
   "metadata": {},
   "source": [
    "### os.getcwd()\n",
    "- 현재 경로 반환"
   ]
  },
  {
   "cell_type": "code",
   "execution_count": 7,
   "id": "e680f6d9-c87b-4a11-bbdd-2bd871103e12",
   "metadata": {},
   "outputs": [
    {
     "data": {
      "text/plain": [
       "'C:\\\\Python'"
      ]
     },
     "execution_count": 7,
     "metadata": {},
     "output_type": "execute_result"
    }
   ],
   "source": [
    "os.getcwd()"
   ]
  },
  {
   "cell_type": "code",
   "execution_count": null,
   "id": "21fb0e0a-7e7b-44e9-b352-6a03b693e428",
   "metadata": {},
   "outputs": [],
   "source": []
  },
  {
   "cell_type": "markdown",
   "id": "a0726575-0caa-4ae9-a0bb-f4b5b79ea286",
   "metadata": {},
   "source": [
    "### os.mkdir()\n",
    "- 새로운 폴더 생성"
   ]
  },
  {
   "cell_type": "code",
   "execution_count": 8,
   "id": "59b8198b-1d8e-42df-b337-f2a239239ab0",
   "metadata": {},
   "outputs": [],
   "source": [
    "os.mkdir('test')"
   ]
  },
  {
   "cell_type": "code",
   "execution_count": null,
   "id": "eb5cd393-f3ff-45cd-8c0c-36a6a1567a94",
   "metadata": {},
   "outputs": [],
   "source": []
  },
  {
   "cell_type": "markdown",
   "id": "7d072e16-6513-47d7-a14f-07e05858d7c1",
   "metadata": {},
   "source": [
    "### os.path.join()\n",
    "- 현재 os의 파일구분자로 연결해서 반환"
   ]
  },
  {
   "cell_type": "code",
   "execution_count": 9,
   "id": "d423c4a8-24ed-4c06-8402-cf673b14f630",
   "metadata": {},
   "outputs": [
    {
     "data": {
      "text/plain": [
       "'.\\\\test'"
      ]
     },
     "execution_count": 9,
     "metadata": {},
     "output_type": "execute_result"
    }
   ],
   "source": [
    "os.path.join('.', 'test')"
   ]
  },
  {
   "cell_type": "code",
   "execution_count": null,
   "id": "0d927b84-aeee-4537-aa57-4defeff4ae04",
   "metadata": {},
   "outputs": [],
   "source": []
  },
  {
   "cell_type": "markdown",
   "id": "03d106f2-0dd8-4412-bc13-237baf70d74c",
   "metadata": {},
   "source": [
    "### os.path.abspath()\n",
    "- 지정된 파일의 절대경로 반환"
   ]
  },
  {
   "cell_type": "code",
   "execution_count": 10,
   "id": "43fd342e-85dc-4f1f-b0f9-7c656d213503",
   "metadata": {},
   "outputs": [
    {
     "data": {
      "text/plain": [
       "'C:\\\\Python\\\\hello.txt'"
      ]
     },
     "execution_count": 10,
     "metadata": {},
     "output_type": "execute_result"
    }
   ],
   "source": [
    "os.path.abspath('hello.txt')"
   ]
  },
  {
   "cell_type": "code",
   "execution_count": null,
   "id": "e3547fd9-0619-4230-9886-f02579c24479",
   "metadata": {},
   "outputs": [],
   "source": []
  },
  {
   "cell_type": "markdown",
   "id": "f257b2f7-7dc9-46d5-9c04-ffe68f555bf4",
   "metadata": {},
   "source": [
    "### os.path.isfile() / isdir()\n",
    "- 파일/디렉토리(폴더) 여부 출력"
   ]
  },
  {
   "cell_type": "code",
   "execution_count": 11,
   "id": "63b55e73-b5eb-4f5d-90ac-e7263000db44",
   "metadata": {},
   "outputs": [
    {
     "data": {
      "text/plain": [
       "True"
      ]
     },
     "execution_count": 11,
     "metadata": {},
     "output_type": "execute_result"
    }
   ],
   "source": [
    "os.path.isfile('hello_write.txt')"
   ]
  },
  {
   "cell_type": "code",
   "execution_count": 12,
   "id": "6df6cb8e-498e-4a58-8110-b621273d8aa6",
   "metadata": {},
   "outputs": [
    {
     "data": {
      "text/plain": [
       "False"
      ]
     },
     "execution_count": 12,
     "metadata": {},
     "output_type": "execute_result"
    }
   ],
   "source": [
    "os.path.isdir('hello_write.txt')"
   ]
  },
  {
   "cell_type": "code",
   "execution_count": 16,
   "id": "c7054d06-0e66-410d-ada0-814beac55fdd",
   "metadata": {},
   "outputs": [
    {
     "data": {
      "text/plain": [
       "False"
      ]
     },
     "execution_count": 16,
     "metadata": {},
     "output_type": "execute_result"
    }
   ],
   "source": [
    "os.path.isfile('test')"
   ]
  },
  {
   "cell_type": "code",
   "execution_count": 17,
   "id": "dd46b8ae-5d68-4157-858f-75d05e58fbe9",
   "metadata": {},
   "outputs": [
    {
     "data": {
      "text/plain": [
       "True"
      ]
     },
     "execution_count": 17,
     "metadata": {},
     "output_type": "execute_result"
    }
   ],
   "source": [
    "os.path.isdir('test')"
   ]
  },
  {
   "cell_type": "code",
   "execution_count": null,
   "id": "821bdc37-b957-4258-84fc-a7029d55cd6a",
   "metadata": {},
   "outputs": [],
   "source": []
  }
 ],
 "metadata": {
  "kernelspec": {
   "display_name": "Python 3",
   "language": "python",
   "name": "python3"
  },
  "language_info": {
   "codemirror_mode": {
    "name": "ipython",
    "version": 3
   },
   "file_extension": ".py",
   "mimetype": "text/x-python",
   "name": "python",
   "nbconvert_exporter": "python",
   "pygments_lexer": "ipython3",
   "version": "3.8.8"
  }
 },
 "nbformat": 4,
 "nbformat_minor": 5
}
