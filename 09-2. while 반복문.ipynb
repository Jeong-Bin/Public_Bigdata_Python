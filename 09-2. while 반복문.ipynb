{
 "cells": [
  {
   "cell_type": "code",
   "execution_count": 3,
   "id": "d8b95a04-a78f-4e74-ba3f-2cc3a6ef0613",
   "metadata": {},
   "outputs": [],
   "source": [
    "# 98"
   ]
  },
  {
   "cell_type": "markdown",
   "id": "ed8a9ea2-eb2e-4755-8fa9-5fed397148dc",
   "metadata": {},
   "source": [
    "- while은 조건이 만족하는 동안 반복문을 수행한다.\n",
    "- else 구문이 항상 있어야 한다."
   ]
  },
  {
   "cell_type": "code",
   "execution_count": 1,
   "id": "37086241-5058-49dd-8148-d63208285bfc",
   "metadata": {},
   "outputs": [
    {
     "name": "stdout",
     "output_type": "stream",
     "text": [
      "0\n",
      "1\n",
      "2\n",
      "3\n",
      "4\n",
      "5\n",
      "6\n",
      "7\n",
      "8\n",
      "9\n",
      "a가 10이므로 종료합니다.\n"
     ]
    }
   ],
   "source": [
    "a = 0\n",
    "\n",
    "while a < 10:\n",
    "    print(a)\n",
    "    a += 1\n",
    "else:\n",
    "    print(f'a가 {a}이므로 종료합니다.')"
   ]
  },
  {
   "cell_type": "markdown",
   "id": "830e427d-70f7-4b80-a510-90e7d571b241",
   "metadata": {},
   "source": [
    "### while 무한반복"
   ]
  },
  {
   "cell_type": "markdown",
   "id": "72d214dd-e0b0-431d-8495-516866cad181",
   "metadata": {},
   "source": [
    "while True: </br>\n",
    "    if 종료조건: </br>\n",
    "        break </br>"
   ]
  },
  {
   "cell_type": "code",
   "execution_count": 2,
   "id": "357adf10-0364-4e60-97cc-70c8bc81ab60",
   "metadata": {},
   "outputs": [
    {
     "name": "stdout",
     "output_type": "stream",
     "text": [
      "3\n",
      "6\n",
      "9\n",
      "12\n",
      "15\n",
      "18\n",
      "21\n",
      "24\n",
      "27\n",
      "30\n",
      "33\n",
      "36\n",
      "39\n",
      "42\n",
      "45\n",
      "48\n",
      "51\n",
      "54\n",
      "57\n",
      "60\n",
      "63\n",
      "66\n",
      "69\n",
      "72\n",
      "75\n",
      "78\n",
      "81\n",
      "84\n",
      "87\n",
      "90\n",
      "93\n",
      "96\n",
      "99\n",
      "102\n"
     ]
    }
   ],
   "source": [
    "x = 0\n",
    "\n",
    "while True:\n",
    "    x += 3\n",
    "    print(x)\n",
    "    if x > 100 and x % 3 == 0:\n",
    "        break"
   ]
  },
  {
   "cell_type": "code",
   "execution_count": null,
   "id": "50c54d74-29e9-4333-b13c-699a094d4843",
   "metadata": {},
   "outputs": [],
   "source": []
  }
 ],
 "metadata": {
  "kernelspec": {
   "display_name": "Python 3",
   "language": "python",
   "name": "python3"
  },
  "language_info": {
   "codemirror_mode": {
    "name": "ipython",
    "version": 3
   },
   "file_extension": ".py",
   "mimetype": "text/x-python",
   "name": "python",
   "nbconvert_exporter": "python",
   "pygments_lexer": "ipython3",
   "version": "3.8.8"
  }
 },
 "nbformat": 4,
 "nbformat_minor": 5
}
