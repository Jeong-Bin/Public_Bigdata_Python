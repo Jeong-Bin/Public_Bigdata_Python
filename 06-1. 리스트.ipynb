{
 "cells": [
  {
   "cell_type": "code",
   "execution_count": 1,
   "id": "eb9cd1b1-6c13-4e60-ac51-3c8269e8eb26",
   "metadata": {},
   "outputs": [],
   "source": [
    "# 63"
   ]
  },
  {
   "cell_type": "code",
   "execution_count": 67,
   "id": "863f9318-b8e9-48c5-b789-67079f11a7c6",
   "metadata": {},
   "outputs": [],
   "source": [
    "letters = ['A', 'B', 'C', 'D', 'E', 'F']"
   ]
  },
  {
   "cell_type": "code",
   "execution_count": 68,
   "id": "aa2a429d-44a3-4127-86ef-74a072c76ec2",
   "metadata": {},
   "outputs": [
    {
     "data": {
      "text/plain": [
       "['A', 'B', 'C', 'D', 'E', 'F']"
      ]
     },
     "execution_count": 68,
     "metadata": {},
     "output_type": "execute_result"
    }
   ],
   "source": [
    "letters"
   ]
  },
  {
   "cell_type": "markdown",
   "id": "bb84d9dd-2f3e-4ae6-a2fa-7e6f9e239187",
   "metadata": {},
   "source": [
    "### 리스트 결합 연산"
   ]
  },
  {
   "cell_type": "code",
   "execution_count": 69,
   "id": "63cc96d5-f5a5-4f05-b9fd-453fe19fb7c3",
   "metadata": {},
   "outputs": [],
   "source": [
    "letter1 = ['A', 'B', 'C']\n",
    "letter2 = ['D', 'E', 'F']"
   ]
  },
  {
   "cell_type": "code",
   "execution_count": 70,
   "id": "34a2cc6c-dd37-44e6-8f40-2550a7a6d977",
   "metadata": {},
   "outputs": [
    {
     "data": {
      "text/plain": [
       "['A', 'B', 'C', 'D', 'E', 'F']"
      ]
     },
     "execution_count": 70,
     "metadata": {},
     "output_type": "execute_result"
    }
   ],
   "source": [
    "letter1 + letter2"
   ]
  },
  {
   "cell_type": "code",
   "execution_count": 71,
   "id": "678e44b1-7b48-4109-9ae2-25a273d40afd",
   "metadata": {},
   "outputs": [],
   "source": [
    "list_num1 = [1, 2, 3]\n",
    "list_num2 = [4, 5, 6]"
   ]
  },
  {
   "cell_type": "code",
   "execution_count": 72,
   "id": "ce9f65a6-dc3e-49cf-a84b-7742c45eb4f2",
   "metadata": {},
   "outputs": [
    {
     "data": {
      "text/plain": [
       "[1, 2, 3, 4, 5, 6]"
      ]
     },
     "execution_count": 72,
     "metadata": {},
     "output_type": "execute_result"
    }
   ],
   "source": [
    "list_num1 + list_num2"
   ]
  },
  {
   "cell_type": "markdown",
   "id": "c43ec4e1-50db-482d-98ee-496a890ba63d",
   "metadata": {},
   "source": [
    "### 리스트에서 원소(element) 존재여부 확인을 위한 in 연산"
   ]
  },
  {
   "cell_type": "code",
   "execution_count": 73,
   "id": "7abe1802-93b7-484d-abef-f724f9e094b2",
   "metadata": {},
   "outputs": [
    {
     "data": {
      "text/plain": [
       "True"
      ]
     },
     "execution_count": 73,
     "metadata": {},
     "output_type": "execute_result"
    }
   ],
   "source": [
    "'A' in letter1"
   ]
  },
  {
   "cell_type": "code",
   "execution_count": 74,
   "id": "dc073229-cd7d-4549-a644-4ebdaea9231a",
   "metadata": {},
   "outputs": [
    {
     "data": {
      "text/plain": [
       "False"
      ]
     },
     "execution_count": 74,
     "metadata": {},
     "output_type": "execute_result"
    }
   ],
   "source": [
    "'A' in letter2"
   ]
  },
  {
   "cell_type": "markdown",
   "id": "0390139d-67cb-46ca-a4cd-b1636f5d3a5c",
   "metadata": {},
   "source": [
    "### 리스트의 원소 변경"
   ]
  },
  {
   "cell_type": "code",
   "execution_count": 75,
   "id": "e0c35bba-2111-4db2-b3f3-66cf7ee22ac9",
   "metadata": {},
   "outputs": [
    {
     "data": {
      "text/plain": [
       "['a', 'B', 'C', 'D', 'E', 'F']"
      ]
     },
     "execution_count": 75,
     "metadata": {},
     "output_type": "execute_result"
    }
   ],
   "source": [
    "letters[0] = 'a'\n",
    "letters"
   ]
  },
  {
   "cell_type": "code",
   "execution_count": 76,
   "id": "49022844-dc0f-46c6-b38d-2a4188075b3c",
   "metadata": {},
   "outputs": [
    {
     "data": {
      "text/plain": [
       "['A', 'B', 'C', 'D', 'E', 'F']"
      ]
     },
     "execution_count": 76,
     "metadata": {},
     "output_type": "execute_result"
    }
   ],
   "source": [
    "letters[0] = 'A'\n",
    "letters"
   ]
  },
  {
   "cell_type": "code",
   "execution_count": 77,
   "id": "e4b01724-742f-461c-a9ca-ac29c50ee2f2",
   "metadata": {},
   "outputs": [
    {
     "ename": "IndexError",
     "evalue": "list assignment index out of range",
     "output_type": "error",
     "traceback": [
      "\u001b[1;31m---------------------------------------------------------------------------\u001b[0m",
      "\u001b[1;31mIndexError\u001b[0m                                Traceback (most recent call last)",
      "\u001b[1;32m<ipython-input-77-dda133d623d1>\u001b[0m in \u001b[0;36m<module>\u001b[1;34m\u001b[0m\n\u001b[1;32m----> 1\u001b[1;33m \u001b[0mletters\u001b[0m\u001b[1;33m[\u001b[0m\u001b[1;36m6\u001b[0m\u001b[1;33m]\u001b[0m \u001b[1;33m=\u001b[0m \u001b[1;34m'A'\u001b[0m  \u001b[1;31m# 범위를 벗어나면 에러. 마지막 인덱스를 선택하고 싶으면 -1 입력\u001b[0m\u001b[1;33m\u001b[0m\u001b[1;33m\u001b[0m\u001b[0m\n\u001b[0m",
      "\u001b[1;31mIndexError\u001b[0m: list assignment index out of range"
     ]
    }
   ],
   "source": [
    "letters[6] = 'A'  # 범위를 벗어나면 에러. 마지막 인덱스를 선택하고 싶으면 -1 입력"
   ]
  },
  {
   "cell_type": "markdown",
   "id": "1f788625-430c-4da1-ae74-323cb0976637",
   "metadata": {},
   "source": [
    "### len()\n",
    "- 리스트에서 원소의 수 계산"
   ]
  },
  {
   "cell_type": "code",
   "execution_count": 78,
   "id": "51e277bb-ea02-4fc2-b0a2-7220b1b5af57",
   "metadata": {},
   "outputs": [
    {
     "data": {
      "text/plain": [
       "6"
      ]
     },
     "execution_count": 78,
     "metadata": {},
     "output_type": "execute_result"
    }
   ],
   "source": [
    "len(letters)"
   ]
  },
  {
   "cell_type": "markdown",
   "id": "e2a54819-847a-42c1-aa76-ca1e540f94cf",
   "metadata": {},
   "source": [
    "### count()\n",
    "- 리스트에서 특정 원소의 갯수 계산"
   ]
  },
  {
   "cell_type": "code",
   "execution_count": 79,
   "id": "03e8f814-323e-493e-943c-12ebbc26fdba",
   "metadata": {},
   "outputs": [
    {
     "data": {
      "text/plain": [
       "1"
      ]
     },
     "execution_count": 79,
     "metadata": {},
     "output_type": "execute_result"
    }
   ],
   "source": [
    "letters.count('A')"
   ]
  },
  {
   "cell_type": "markdown",
   "id": "c84ad042-f8bf-4a8c-bd75-334f691d176c",
   "metadata": {},
   "source": [
    "### append() 함수\n",
    "- 리스트의 마지막에 원소 추가"
   ]
  },
  {
   "cell_type": "code",
   "execution_count": 80,
   "id": "5a83ad31-e5e7-49e1-875f-149c96e69da6",
   "metadata": {},
   "outputs": [
    {
     "data": {
      "text/plain": [
       "['A', 'B', 'C', 'D', 'E', 'F', 'a']"
      ]
     },
     "execution_count": 80,
     "metadata": {},
     "output_type": "execute_result"
    }
   ],
   "source": [
    "letters.append('a')\n",
    "letters"
   ]
  },
  {
   "cell_type": "markdown",
   "id": "a7c1b365-5876-4c9a-b32c-05cab92f91f8",
   "metadata": {},
   "source": [
    "### insert() 함수\n",
    "- 리스트의 지정된 인덱스 위치에 원소 삽입"
   ]
  },
  {
   "cell_type": "code",
   "execution_count": 81,
   "id": "4f7e3524-35ca-4749-9413-e1a925c18280",
   "metadata": {},
   "outputs": [
    {
     "data": {
      "text/plain": [
       "['A', 'B', 'z', 'C', 'D', 'E', 'F', 'a']"
      ]
     },
     "execution_count": 81,
     "metadata": {},
     "output_type": "execute_result"
    }
   ],
   "source": [
    "letters.insert(2, 'z')\n",
    "letters"
   ]
  },
  {
   "cell_type": "markdown",
   "id": "d8a23379-6e2c-48e0-a0ec-f225a4f744fa",
   "metadata": {
    "tags": []
   },
   "source": [
    "### pop() 함수\n",
    "- 리스트의 지정된 인덱스의 원소 추출"
   ]
  },
  {
   "cell_type": "code",
   "execution_count": 82,
   "id": "db33fe4f-a868-403d-b51e-dae33cb3f833",
   "metadata": {},
   "outputs": [
    {
     "data": {
      "text/plain": [
       "'z'"
      ]
     },
     "execution_count": 82,
     "metadata": {},
     "output_type": "execute_result"
    }
   ],
   "source": [
    "letters.pop(2)"
   ]
  },
  {
   "cell_type": "code",
   "execution_count": 83,
   "id": "5c4f184f-19cc-448b-a276-fae8befe71db",
   "metadata": {},
   "outputs": [
    {
     "data": {
      "text/plain": [
       "['A', 'B', 'C', 'D', 'E', 'F', 'a']"
      ]
     },
     "execution_count": 83,
     "metadata": {},
     "output_type": "execute_result"
    }
   ],
   "source": [
    "letters"
   ]
  },
  {
   "cell_type": "markdown",
   "id": "6e032760-d598-4cd3-996e-20c78a2ade2b",
   "metadata": {},
   "source": [
    "### remove() 함수\n",
    "- 리스트에서 지정된 원소 제거"
   ]
  },
  {
   "cell_type": "code",
   "execution_count": 84,
   "id": "91665581-341d-47c2-bc6f-ec310393e9c1",
   "metadata": {},
   "outputs": [
    {
     "data": {
      "text/plain": [
       "['A', 'B', 'C', 'D', 'E', 'F']"
      ]
     },
     "execution_count": 84,
     "metadata": {},
     "output_type": "execute_result"
    }
   ],
   "source": [
    "letters.remove('a')\n",
    "letters"
   ]
  },
  {
   "cell_type": "markdown",
   "id": "6a9a67a7-a93d-43a3-9d67-a3c4018b8a1a",
   "metadata": {},
   "source": [
    "### sort() 함수\n",
    "- 원소 자체의 순서에 따라 정렬"
   ]
  },
  {
   "cell_type": "code",
   "execution_count": 85,
   "id": "868ac286-eca3-416c-8132-4c723e30a96d",
   "metadata": {},
   "outputs": [
    {
     "data": {
      "text/plain": [
       "['A', 'B', 'C', 'D', 'E', 'F']"
      ]
     },
     "execution_count": 85,
     "metadata": {},
     "output_type": "execute_result"
    }
   ],
   "source": [
    "letters"
   ]
  },
  {
   "cell_type": "code",
   "execution_count": 86,
   "id": "4c8dc235-1325-45b5-ae80-0e6878aecd7e",
   "metadata": {},
   "outputs": [
    {
     "data": {
      "text/plain": [
       "['F', 'E', 'D', 'C', 'B', 'A']"
      ]
     },
     "execution_count": 86,
     "metadata": {},
     "output_type": "execute_result"
    }
   ],
   "source": [
    "letters.sort(reverse=True)\n",
    "letters"
   ]
  },
  {
   "cell_type": "code",
   "execution_count": 87,
   "id": "7d6a96b7-a2d2-4f12-bccc-65e51a220978",
   "metadata": {},
   "outputs": [
    {
     "data": {
      "text/plain": [
       "['A', 'B', 'C', 'D', 'E', 'F']"
      ]
     },
     "execution_count": 87,
     "metadata": {},
     "output_type": "execute_result"
    }
   ],
   "source": [
    "letters.sort()\n",
    "letters"
   ]
  }
 ],
 "metadata": {
  "kernelspec": {
   "display_name": "Python 3",
   "language": "python",
   "name": "python3"
  },
  "language_info": {
   "codemirror_mode": {
    "name": "ipython",
    "version": 3
   },
   "file_extension": ".py",
   "mimetype": "text/x-python",
   "name": "python",
   "nbconvert_exporter": "python",
   "pygments_lexer": "ipython3",
   "version": "3.8.8"
  }
 },
 "nbformat": 4,
 "nbformat_minor": 5
}
