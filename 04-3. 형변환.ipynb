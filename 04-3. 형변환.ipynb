{
 "cells": [
  {
   "cell_type": "code",
   "execution_count": 1,
   "id": "226db41f-d0f1-4fa8-aa2b-1436c0a8d951",
   "metadata": {},
   "outputs": [],
   "source": [
    "# 48"
   ]
  },
  {
   "cell_type": "markdown",
   "id": "5969dcf1-1e46-41f9-ada6-990098d00636",
   "metadata": {},
   "source": [
    "# 묵시적 형변환"
   ]
  },
  {
   "cell_type": "code",
   "execution_count": 21,
   "id": "ac22d0c0-c3d9-427f-96ba-d3c923f47123",
   "metadata": {},
   "outputs": [],
   "source": [
    "price = 1000"
   ]
  },
  {
   "cell_type": "code",
   "execution_count": 22,
   "id": "67314dd5-7298-458d-b9f2-0b259e085b35",
   "metadata": {},
   "outputs": [
    {
     "name": "stdout",
     "output_type": "stream",
     "text": [
      "1000\n",
      "<class 'int'>\n"
     ]
    }
   ],
   "source": [
    "print(price)\n",
    "print(type(price))"
   ]
  },
  {
   "cell_type": "code",
   "execution_count": 23,
   "id": "5da09e81-cf56-4860-a86e-6cf1d87651f1",
   "metadata": {},
   "outputs": [],
   "source": [
    "price = price * 0.05"
   ]
  },
  {
   "cell_type": "code",
   "execution_count": 24,
   "id": "753e6f2f-99c4-44c6-879f-a9dfaf4fc67c",
   "metadata": {},
   "outputs": [
    {
     "name": "stdout",
     "output_type": "stream",
     "text": [
      "50.0\n",
      "<class 'float'>\n"
     ]
    }
   ],
   "source": [
    "print(price)\n",
    "print(type(price))"
   ]
  },
  {
   "cell_type": "code",
   "execution_count": 25,
   "id": "b0e5c6ba-5ca2-43c0-b0c2-9baf8f317abb",
   "metadata": {},
   "outputs": [],
   "source": [
    "i1 = 1000"
   ]
  },
  {
   "cell_type": "code",
   "execution_count": 26,
   "id": "b018c92c-03df-49a0-a5f4-83b3b9a3bec2",
   "metadata": {},
   "outputs": [
    {
     "name": "stdout",
     "output_type": "stream",
     "text": [
      "1000\n",
      "<class 'int'>\n"
     ]
    }
   ],
   "source": [
    "print(i1)\n",
    "print(type(i1))"
   ]
  },
  {
   "cell_type": "code",
   "execution_count": 27,
   "id": "fcde4a87-168a-4a88-9435-cea75c620bcc",
   "metadata": {},
   "outputs": [],
   "source": [
    "i1 = i1 / 4"
   ]
  },
  {
   "cell_type": "code",
   "execution_count": 28,
   "id": "1be62a95-11ad-47da-85fc-c107e15843f1",
   "metadata": {},
   "outputs": [
    {
     "name": "stdout",
     "output_type": "stream",
     "text": [
      "250.0\n",
      "<class 'float'>\n"
     ]
    }
   ],
   "source": [
    "print(i1)\n",
    "print(type(i1))"
   ]
  },
  {
   "cell_type": "markdown",
   "id": "c055ed60-4d2d-4de5-8700-9c3423575aa4",
   "metadata": {
    "tags": []
   },
   "source": [
    "# 명시적 형변환"
   ]
  },
  {
   "cell_type": "markdown",
   "id": "0ae1e5d5-903e-41b5-970b-869abfcfa08d",
   "metadata": {},
   "source": [
    "### float -> int"
   ]
  },
  {
   "cell_type": "code",
   "execution_count": 29,
   "id": "6b784b2c-5bf3-478d-bc80-398e31eed1bf",
   "metadata": {},
   "outputs": [],
   "source": [
    "f1 = 3.14"
   ]
  },
  {
   "cell_type": "code",
   "execution_count": 30,
   "id": "780acf81-1b7d-4803-873d-94c094493c03",
   "metadata": {},
   "outputs": [
    {
     "name": "stdout",
     "output_type": "stream",
     "text": [
      "<class 'float'>\n"
     ]
    }
   ],
   "source": [
    "print(type(f1))"
   ]
  },
  {
   "cell_type": "code",
   "execution_count": 31,
   "id": "9c0f930c-44cf-428b-b549-735b7075de3f",
   "metadata": {},
   "outputs": [],
   "source": [
    "i1 = int(f1)"
   ]
  },
  {
   "cell_type": "code",
   "execution_count": 32,
   "id": "1761f780-0c5c-46a1-ba98-b246887ba18f",
   "metadata": {},
   "outputs": [
    {
     "name": "stdout",
     "output_type": "stream",
     "text": [
      "3\n",
      "<class 'int'>\n"
     ]
    }
   ],
   "source": [
    "print(i1)\n",
    "print(type(i1))"
   ]
  },
  {
   "cell_type": "markdown",
   "id": "3b0f1e31-c158-4b4d-839b-f3853fd73987",
   "metadata": {},
   "source": [
    "### str -> int"
   ]
  },
  {
   "cell_type": "code",
   "execution_count": 33,
   "id": "bde9d6af-a8eb-44a2-bf4c-dacf2dd020a6",
   "metadata": {},
   "outputs": [],
   "source": [
    "s1 = '12345'"
   ]
  },
  {
   "cell_type": "code",
   "execution_count": 34,
   "id": "e44bf190-0f4f-4443-a236-92a2953aa8c1",
   "metadata": {},
   "outputs": [
    {
     "name": "stdout",
     "output_type": "stream",
     "text": [
      "<class 'str'>\n"
     ]
    }
   ],
   "source": [
    "print(type(s1))"
   ]
  },
  {
   "cell_type": "code",
   "execution_count": 35,
   "id": "fd07c270-0631-48a2-9895-7ff0cb4ef0cd",
   "metadata": {},
   "outputs": [],
   "source": [
    "i1 = int(s1)"
   ]
  },
  {
   "cell_type": "code",
   "execution_count": 36,
   "id": "3f5a9ab5-4588-4bfa-9f82-93f8a76c5b1c",
   "metadata": {},
   "outputs": [
    {
     "name": "stdout",
     "output_type": "stream",
     "text": [
      "12345\n",
      "<class 'int'>\n"
     ]
    }
   ],
   "source": [
    "print(i1)\n",
    "print(type(i1))"
   ]
  },
  {
   "cell_type": "code",
   "execution_count": 38,
   "id": "d3e368c3-228b-4606-9d94-693416cb81ff",
   "metadata": {},
   "outputs": [
    {
     "ename": "ValueError",
     "evalue": "invalid literal for int() with base 10: '12345a'",
     "output_type": "error",
     "traceback": [
      "\u001b[1;31m---------------------------------------------------------------------------\u001b[0m",
      "\u001b[1;31mValueError\u001b[0m                                Traceback (most recent call last)",
      "\u001b[1;32m<ipython-input-38-d7c307400b23>\u001b[0m in \u001b[0;36m<module>\u001b[1;34m\u001b[0m\n\u001b[0;32m      2\u001b[0m \u001b[1;33m\u001b[0m\u001b[0m\n\u001b[0;32m      3\u001b[0m \u001b[0ms2\u001b[0m \u001b[1;33m=\u001b[0m \u001b[1;34m'12345a'\u001b[0m\u001b[1;33m\u001b[0m\u001b[1;33m\u001b[0m\u001b[0m\n\u001b[1;32m----> 4\u001b[1;33m \u001b[0mint\u001b[0m\u001b[1;33m(\u001b[0m\u001b[0ms2\u001b[0m\u001b[1;33m)\u001b[0m\u001b[1;33m\u001b[0m\u001b[1;33m\u001b[0m\u001b[0m\n\u001b[0m",
      "\u001b[1;31mValueError\u001b[0m: invalid literal for int() with base 10: '12345a'"
     ]
    }
   ],
   "source": [
    "# 문자열을 숫자형으로 형변환할 때는 기존의 문자열에 다른 문자가 섞이지 않은 순수한 숫자만 있어야 한다. \n",
    "s2 = '12345a'\n",
    "int(s2)"
   ]
  },
  {
   "cell_type": "code",
   "execution_count": 40,
   "id": "41b5c3ad-7784-4f70-8be7-6cd0ed4a321b",
   "metadata": {},
   "outputs": [
    {
     "data": {
      "text/plain": [
       "1234"
      ]
     },
     "execution_count": 40,
     "metadata": {},
     "output_type": "execute_result"
    }
   ],
   "source": [
    "# 공백은 자동으로 없애고 변환해준다,\n",
    "s3 = '1234 '\n",
    "int(s3)"
   ]
  },
  {
   "cell_type": "markdown",
   "id": "abbf66e6-2361-40a6-8ad5-640f083b933e",
   "metadata": {},
   "source": [
    "### int ->  float"
   ]
  },
  {
   "cell_type": "code",
   "execution_count": 41,
   "id": "a7e05b25-b01e-4945-909e-28bdc4dfa07b",
   "metadata": {},
   "outputs": [],
   "source": [
    "i1 = 100"
   ]
  },
  {
   "cell_type": "code",
   "execution_count": 42,
   "id": "dee0616e-5649-489b-b200-8018d3131626",
   "metadata": {},
   "outputs": [
    {
     "name": "stdout",
     "output_type": "stream",
     "text": [
      "<class 'int'>\n"
     ]
    }
   ],
   "source": [
    "print(type(i1))"
   ]
  },
  {
   "cell_type": "code",
   "execution_count": 43,
   "id": "b17da7e2-e778-4aee-9211-6167abcb5429",
   "metadata": {},
   "outputs": [],
   "source": [
    "f1 = float(i1)"
   ]
  },
  {
   "cell_type": "code",
   "execution_count": 44,
   "id": "9a00905b-89e1-4302-8e46-3fba99c19741",
   "metadata": {},
   "outputs": [
    {
     "name": "stdout",
     "output_type": "stream",
     "text": [
      "100.0\n",
      "<class 'float'>\n"
     ]
    }
   ],
   "source": [
    "print(f1)\n",
    "print(type(f1))"
   ]
  },
  {
   "cell_type": "markdown",
   "id": "feac4e45-d3b2-409f-8d9f-aec9b7b635c6",
   "metadata": {},
   "source": [
    "### str -> float"
   ]
  },
  {
   "cell_type": "code",
   "execution_count": 45,
   "id": "10114ecf-89bc-46fe-ab44-bfb92bc8f2c8",
   "metadata": {},
   "outputs": [],
   "source": [
    "s1 = '3.14'"
   ]
  },
  {
   "cell_type": "code",
   "execution_count": 46,
   "id": "126d85e5-27d2-4d9b-adbb-ee7becf1a58b",
   "metadata": {},
   "outputs": [
    {
     "name": "stdout",
     "output_type": "stream",
     "text": [
      "<class 'str'>\n"
     ]
    }
   ],
   "source": [
    "print(type(s1))"
   ]
  },
  {
   "cell_type": "code",
   "execution_count": 49,
   "id": "5e254e42-e89f-4b4d-94db-53ff6f5d4c18",
   "metadata": {},
   "outputs": [],
   "source": [
    "f1 = float(s1)"
   ]
  },
  {
   "cell_type": "code",
   "execution_count": 51,
   "id": "ab29413a-8709-4629-b90b-c02ccb15de6b",
   "metadata": {},
   "outputs": [
    {
     "name": "stdout",
     "output_type": "stream",
     "text": [
      "3.14\n",
      "<class 'float'>\n"
     ]
    }
   ],
   "source": [
    "print(f1)\n",
    "print(type(f1))"
   ]
  }
 ],
 "metadata": {
  "kernelspec": {
   "display_name": "Python 3",
   "language": "python",
   "name": "python3"
  },
  "language_info": {
   "codemirror_mode": {
    "name": "ipython",
    "version": 3
   },
   "file_extension": ".py",
   "mimetype": "text/x-python",
   "name": "python",
   "nbconvert_exporter": "python",
   "pygments_lexer": "ipython3",
   "version": "3.8.8"
  }
 },
 "nbformat": 4,
 "nbformat_minor": 5
}
