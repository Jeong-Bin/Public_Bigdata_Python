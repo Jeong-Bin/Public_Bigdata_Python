{
 "cells": [
  {
   "cell_type": "code",
   "execution_count": 1,
   "id": "5581a24e-589f-45d0-862a-b5b332c8cf67",
   "metadata": {},
   "outputs": [],
   "source": [
    "# 80"
   ]
  },
  {
   "cell_type": "markdown",
   "id": "3c081299-9632-44d2-8ff0-027e38eb7588",
   "metadata": {},
   "source": [
    "\n",
    "딕셔너리 변수={\n",
    "    key1:value1,\n",
    "    key2:value2,\n",
    "}\n"
   ]
  },
  {
   "cell_type": "code",
   "execution_count": 1,
   "id": "06230002-926e-46fe-b5fe-fe8d3b585053",
   "metadata": {},
   "outputs": [
    {
     "data": {
      "text/plain": [
       "{'수학': 100, '영어': 90}"
      ]
     },
     "execution_count": 1,
     "metadata": {},
     "output_type": "execute_result"
    }
   ],
   "source": [
    "중간고사 = {\n",
    "    \"수학\": 100,\n",
    "    \"영어\": 90,\n",
    "}\n",
    "중간고사"
   ]
  },
  {
   "cell_type": "markdown",
   "id": "adaaad0f-0c78-4c7e-a449-ae23ef177017",
   "metadata": {},
   "source": [
    "### 원소 추가\n",
    "- 인덱싱/슬라이싱 방법이 아닌, 키값을 지정함으로써 수행"
   ]
  },
  {
   "cell_type": "code",
   "execution_count": 2,
   "id": "c10a74ce-7f87-4fa0-a33b-10d37915962e",
   "metadata": {},
   "outputs": [
    {
     "data": {
      "text/plain": [
       "{'수학': 100, '영어': 90, '국어': 85}"
      ]
     },
     "execution_count": 2,
     "metadata": {},
     "output_type": "execute_result"
    }
   ],
   "source": [
    "# 이때는 {}가 아닌 []를 사용\n",
    "중간고사['국어'] = 85\n",
    "중간고사"
   ]
  },
  {
   "cell_type": "markdown",
   "id": "741eb5fd-f720-4244-8cfb-d9da0c7a1bd1",
   "metadata": {},
   "source": [
    "### 원소 확인 및 변경"
   ]
  },
  {
   "cell_type": "code",
   "execution_count": 3,
   "id": "8e2a25c5-790b-4298-aa69-09edcd72a131",
   "metadata": {},
   "outputs": [
    {
     "data": {
      "text/plain": [
       "90"
      ]
     },
     "execution_count": 3,
     "metadata": {},
     "output_type": "execute_result"
    }
   ],
   "source": [
    "# 원소 확인\n",
    "# 이때는 {}가 아닌 []를 사용\n",
    "중간고사['영어']"
   ]
  },
  {
   "cell_type": "code",
   "execution_count": 5,
   "id": "efda7d22-4ee3-43d0-8f38-e0bbcdc8a506",
   "metadata": {},
   "outputs": [
    {
     "data": {
      "text/plain": [
       "{'수학': 100, '영어': 95, '국어': 85}"
      ]
     },
     "execution_count": 5,
     "metadata": {},
     "output_type": "execute_result"
    }
   ],
   "source": [
    "# 원소 변경\n",
    "# 이때는 {}가 아닌 []를 사용\n",
    "중간고사['영어'] = 95\n",
    "중간고사"
   ]
  },
  {
   "cell_type": "markdown",
   "id": "eca0c7d0-8917-4cdb-ab5c-20ff431d5b79",
   "metadata": {},
   "source": [
    "### keys(), values(), items()"
   ]
  },
  {
   "cell_type": "code",
   "execution_count": 6,
   "id": "bb3d50bb-7885-4ad6-9cd3-e864fc86f937",
   "metadata": {},
   "outputs": [
    {
     "data": {
      "text/plain": [
       "['수학', '영어', '국어']"
      ]
     },
     "execution_count": 6,
     "metadata": {},
     "output_type": "execute_result"
    }
   ],
   "source": [
    "# keys() : key들을 리스트 형태로 반환\n",
    "list(중간고사.keys())"
   ]
  },
  {
   "cell_type": "code",
   "execution_count": 7,
   "id": "f9ebb5e7-608e-4115-9586-42461e1496b6",
   "metadata": {},
   "outputs": [
    {
     "data": {
      "text/plain": [
       "[100, 95, 85]"
      ]
     },
     "execution_count": 7,
     "metadata": {},
     "output_type": "execute_result"
    }
   ],
   "source": [
    "# value() : value들을 리스트 형태로 반환\n",
    "list(중간고사.values())"
   ]
  },
  {
   "cell_type": "code",
   "execution_count": 8,
   "id": "caeaec60-17d1-4d3a-ad26-b33fc0bce925",
   "metadata": {},
   "outputs": [
    {
     "data": {
      "text/plain": [
       "dict_items([('수학', 100), ('영어', 95), ('국어', 85)])"
      ]
     },
     "execution_count": 8,
     "metadata": {},
     "output_type": "execute_result"
    }
   ],
   "source": [
    "# items() : 키-값 쌍을 튜플로 만든 뒤 리스트 안에 넣어서 반환\n",
    "중간고사.items()"
   ]
  },
  {
   "cell_type": "markdown",
   "id": "58005e2c-a08b-4b1f-8677-b31d62509850",
   "metadata": {},
   "source": [
    "### 원소 삭제"
   ]
  },
  {
   "cell_type": "code",
   "execution_count": 9,
   "id": "f582b1b2-e7a7-472d-877d-6dc0924917af",
   "metadata": {},
   "outputs": [
    {
     "data": {
      "text/plain": [
       "85"
      ]
     },
     "execution_count": 9,
     "metadata": {},
     "output_type": "execute_result"
    }
   ],
   "source": [
    "중간고사.pop('국어')\n",
    "# 리스트의 경우 pop을 사용하면 가장 마지막 인덱스값을 알아서 찾아 수행하지만,\n",
    "# 딕셔너리는 인덱스를 지원하지 않기 때문에 키값을 직접 입력해야함"
   ]
  },
  {
   "cell_type": "code",
   "execution_count": 10,
   "id": "b12db35a-28a6-4e35-ab34-10103910c0c0",
   "metadata": {},
   "outputs": [
    {
     "data": {
      "text/plain": [
       "{'수학': 100, '영어': 95}"
      ]
     },
     "execution_count": 10,
     "metadata": {},
     "output_type": "execute_result"
    }
   ],
   "source": [
    "중간고사"
   ]
  },
  {
   "cell_type": "code",
   "execution_count": null,
   "id": "ca97b58f-fd01-4f7a-b23b-7ef833502daa",
   "metadata": {},
   "outputs": [],
   "source": []
  }
 ],
 "metadata": {
  "kernelspec": {
   "display_name": "Python 3",
   "language": "python",
   "name": "python3"
  },
  "language_info": {
   "codemirror_mode": {
    "name": "ipython",
    "version": 3
   },
   "file_extension": ".py",
   "mimetype": "text/x-python",
   "name": "python",
   "nbconvert_exporter": "python",
   "pygments_lexer": "ipython3",
   "version": "3.8.8"
  }
 },
 "nbformat": 4,
 "nbformat_minor": 5
}
