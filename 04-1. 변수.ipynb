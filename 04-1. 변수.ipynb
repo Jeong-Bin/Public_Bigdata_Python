{
 "cells": [
  {
   "cell_type": "code",
   "execution_count": 1,
   "id": "bcb68e1d-0ceb-4e90-9c10-3190bf51ae35",
   "metadata": {},
   "outputs": [],
   "source": [
    "# 40"
   ]
  },
  {
   "cell_type": "markdown",
   "id": "f3a7230c-343a-4ec1-b4ac-bfb25182ae0b",
   "metadata": {},
   "source": [
    "# 변수"
   ]
  },
  {
   "cell_type": "code",
   "execution_count": 1,
   "id": "c1baea8f-90e6-448d-b9d2-7fad25244cc8",
   "metadata": {},
   "outputs": [
    {
     "name": "stdout",
     "output_type": "stream",
     "text": [
      "0\n"
     ]
    }
   ],
   "source": [
    "num = 0\n",
    "print(num)"
   ]
  },
  {
   "cell_type": "code",
   "execution_count": 2,
   "id": "89754dd4-b8c8-4f0d-9c1d-32627a72ca76",
   "metadata": {},
   "outputs": [
    {
     "name": "stdout",
     "output_type": "stream",
     "text": [
      "2\n"
     ]
    }
   ],
   "source": [
    "num2 = 2\n",
    "print(num2)"
   ]
  },
  {
   "cell_type": "code",
   "execution_count": 3,
   "id": "fc2f7941-f7a1-4f86-82db-7514d66cdd57",
   "metadata": {},
   "outputs": [
    {
     "name": "stdout",
     "output_type": "stream",
     "text": [
      "3\n"
     ]
    }
   ],
   "source": [
    "num_3 = 3\n",
    "print(num_3)"
   ]
  },
  {
   "cell_type": "code",
   "execution_count": 4,
   "id": "3c1d1f16-73e5-4101-99c3-f372b7726b86",
   "metadata": {},
   "outputs": [
    {
     "name": "stdout",
     "output_type": "stream",
     "text": [
      "Hello World Python\n"
     ]
    }
   ],
   "source": [
    "hello = 'Hello World Python'\n",
    "print(hello)"
   ]
  },
  {
   "cell_type": "code",
   "execution_count": 5,
   "id": "91c9128b-f144-4fd7-8d5a-f7dd3f807872",
   "metadata": {},
   "outputs": [
    {
     "name": "stdout",
     "output_type": "stream",
     "text": [
      "Hello\n"
     ]
    }
   ],
   "source": [
    "헬로 = 'Hello'\n",
    "print(헬로)"
   ]
  },
  {
   "cell_type": "code",
   "execution_count": 6,
   "id": "5757945e-5f1e-401e-9b3a-a060f6deef12",
   "metadata": {},
   "outputs": [
    {
     "name": "stdout",
     "output_type": "stream",
     "text": [
      "안녕\n"
     ]
    }
   ],
   "source": [
    "헬로2 = '안녕'\n",
    "print(헬로2)"
   ]
  },
  {
   "cell_type": "code",
   "execution_count": 7,
   "id": "c70b11d5-5036-4ea6-ada8-78c4396ae5f0",
   "metadata": {},
   "outputs": [],
   "source": [
    "# 숫자로 시작 불가\n",
    "# 특수문자, 문장부호는 사용 불가\n",
    "# 대소문자 구별\n",
    "# 33개 파이썬 키워드(예약어)는 사용 불가"
   ]
  },
  {
   "cell_type": "markdown",
   "id": "d8626e57-d563-4d3b-aeb7-b77298934a5f",
   "metadata": {},
   "source": [
    "# 변수의 연산과 출력"
   ]
  },
  {
   "cell_type": "code",
   "execution_count": 8,
   "id": "028ee9ca-df20-4acb-add4-00034656ed5c",
   "metadata": {},
   "outputs": [],
   "source": [
    "num1 = 10\n",
    "num2 = 5"
   ]
  },
  {
   "cell_type": "code",
   "execution_count": 9,
   "id": "96244974-affb-4cf5-85ad-243c2cfd7204",
   "metadata": {},
   "outputs": [
    {
     "name": "stdout",
     "output_type": "stream",
     "text": [
      "10 5\n"
     ]
    }
   ],
   "source": [
    "print(num1, num2)"
   ]
  },
  {
   "cell_type": "code",
   "execution_count": 10,
   "id": "52c9a8d8-8fb9-4cbd-a54a-e2ed1b9c55c1",
   "metadata": {},
   "outputs": [
    {
     "name": "stdout",
     "output_type": "stream",
     "text": [
      "15\n"
     ]
    }
   ],
   "source": [
    "print(num1 + num2)"
   ]
  },
  {
   "cell_type": "code",
   "execution_count": 11,
   "id": "8b01a799-ed74-4aac-994b-2e57e12afa0e",
   "metadata": {},
   "outputs": [
    {
     "name": "stdout",
     "output_type": "stream",
     "text": [
      "sum :  15\n"
     ]
    }
   ],
   "source": [
    "print('sum : ', num1 + num2)"
   ]
  },
  {
   "cell_type": "markdown",
   "id": "368c8e21-dc87-4052-bbdf-ac11871ed548",
   "metadata": {},
   "source": [
    "# 여러 변수 동시 할당"
   ]
  },
  {
   "cell_type": "code",
   "execution_count": 35,
   "id": "d317898e-9a25-4dce-8284-4a1ebc488724",
   "metadata": {},
   "outputs": [],
   "source": [
    "a = b = 10"
   ]
  },
  {
   "cell_type": "code",
   "execution_count": 36,
   "id": "8c3b204f-c5b2-4398-8447-44bb9f73872d",
   "metadata": {},
   "outputs": [
    {
     "name": "stdout",
     "output_type": "stream",
     "text": [
      "10\n",
      "10\n"
     ]
    }
   ],
   "source": [
    "print(a)\n",
    "print(b)"
   ]
  },
  {
   "cell_type": "code",
   "execution_count": 37,
   "id": "31989416-ad1f-4f3e-86da-9e91ce4d48a9",
   "metadata": {},
   "outputs": [],
   "source": [
    "a, b = 2, 4"
   ]
  },
  {
   "cell_type": "code",
   "execution_count": 38,
   "id": "e4a5a0a9-51b4-43a6-bc9c-aeb4f9650072",
   "metadata": {},
   "outputs": [
    {
     "name": "stdout",
     "output_type": "stream",
     "text": [
      "2\n",
      "4\n"
     ]
    }
   ],
   "source": [
    "print(a)\n",
    "print(b)"
   ]
  },
  {
   "cell_type": "code",
   "execution_count": 18,
   "id": "b2b076a5-bf25-4d8a-ab09-2e242a135f3a",
   "metadata": {},
   "outputs": [],
   "source": [
    "# ;을 이용해서 여러 라인에 쓸 구문들을 한 라인에 쓸 수 있음\n",
    "a = 2; b = 4"
   ]
  },
  {
   "cell_type": "code",
   "execution_count": 19,
   "id": "59eeb1ad-bca6-4462-800c-c68a5a2f9c5f",
   "metadata": {},
   "outputs": [
    {
     "name": "stdout",
     "output_type": "stream",
     "text": [
      "2\n",
      "4\n"
     ]
    }
   ],
   "source": [
    "print(a)\n",
    "print(b)"
   ]
  },
  {
   "cell_type": "markdown",
   "id": "4155810a-356e-43fc-917d-11e3d4e122b4",
   "metadata": {},
   "source": [
    "# 여러 변수 값 교환(swap)"
   ]
  },
  {
   "cell_type": "code",
   "execution_count": 34,
   "id": "b6ea93b1-60ed-446b-8b33-c70bcef981d4",
   "metadata": {},
   "outputs": [],
   "source": [
    "# 다른 언어에서는 temp라는 변수를 추가해서 사용하지만 파이썬은 간단하게 교환이 가능함"
   ]
  },
  {
   "cell_type": "markdown",
   "id": "fec7a80e-02d8-46c1-b05d-7e3f01e35e36",
   "metadata": {},
   "source": [
    "### 다른 언어 예시"
   ]
  },
  {
   "cell_type": "code",
   "execution_count": 30,
   "id": "a0145dd2-f349-4580-937d-bc927ca96f9a",
   "metadata": {},
   "outputs": [
    {
     "name": "stdout",
     "output_type": "stream",
     "text": [
      "10 5\n"
     ]
    }
   ],
   "source": [
    "a = 10; b = 5\n",
    "print(a, b)"
   ]
  },
  {
   "cell_type": "code",
   "execution_count": 31,
   "id": "620abbc3-2b37-41dc-b219-57963c903327",
   "metadata": {},
   "outputs": [
    {
     "name": "stdout",
     "output_type": "stream",
     "text": [
      "5 10\n"
     ]
    }
   ],
   "source": [
    "temp = a; a = b; b = temp\n",
    "print(a, b)"
   ]
  },
  {
   "cell_type": "markdown",
   "id": "cff2d2c6-133e-4e7f-8a9d-341b59d3bbee",
   "metadata": {},
   "source": [
    "### 파이썬 예시"
   ]
  },
  {
   "cell_type": "code",
   "execution_count": 32,
   "id": "a7bf8859-f713-4337-8e97-ef34f6e3c0b6",
   "metadata": {},
   "outputs": [
    {
     "name": "stdout",
     "output_type": "stream",
     "text": [
      "10 5\n"
     ]
    }
   ],
   "source": [
    "a = 10; b = 5\n",
    "print(a, b)"
   ]
  },
  {
   "cell_type": "code",
   "execution_count": 33,
   "id": "66f5e6dd-c4bc-48ab-9a5b-506063fdfc21",
   "metadata": {},
   "outputs": [
    {
     "name": "stdout",
     "output_type": "stream",
     "text": [
      "5 10\n"
     ]
    }
   ],
   "source": [
    "a, b = b, a\n",
    "print(a, b)"
   ]
  }
 ],
 "metadata": {
  "kernelspec": {
   "display_name": "Python 3",
   "language": "python",
   "name": "python3"
  },
  "language_info": {
   "codemirror_mode": {
    "name": "ipython",
    "version": 3
   },
   "file_extension": ".py",
   "mimetype": "text/x-python",
   "name": "python",
   "nbconvert_exporter": "python",
   "pygments_lexer": "ipython3",
   "version": "3.8.8"
  }
 },
 "nbformat": 4,
 "nbformat_minor": 5
}
