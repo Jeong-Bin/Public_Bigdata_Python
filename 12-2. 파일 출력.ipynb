{
 "cells": [
  {
   "cell_type": "code",
   "execution_count": 3,
   "id": "3eba8c51-96be-4a28-9106-3e361ea7ad6a",
   "metadata": {},
   "outputs": [],
   "source": [
    "# 128"
   ]
  },
  {
   "cell_type": "markdown",
   "id": "413de93a-1794-46c7-9e76-b48431de344f",
   "metadata": {},
   "source": [
    "## 파일 쓰기 작업 과정\n",
    "\n",
    "1. 파일 객체 생성\n",
    "   <br> 파일객체 = open(파일경로/파일명, 모드)\n",
    "\n",
    "2. 파일 읽기(라인 단위)\n",
    "   <br> 파일객체.write()\n",
    "\n",
    "3. 파일객체 닫기 \n",
    "   <br> 파일객체.close()"
   ]
  },
  {
   "cell_type": "markdown",
   "id": "fd8df4be-9374-474b-a57d-dbd62b633610",
   "metadata": {},
   "source": [
    "### w 모드"
   ]
  },
  {
   "cell_type": "code",
   "execution_count": 10,
   "id": "3ebff09c-1b01-48ef-ac3e-eba5a96422a0",
   "metadata": {},
   "outputs": [],
   "source": [
    "fw = open('./12-2. hello_write.txt', 'w')"
   ]
  },
  {
   "cell_type": "code",
   "execution_count": 11,
   "id": "e9aa52c5-ca8b-4d24-a063-f3da482afdd3",
   "metadata": {},
   "outputs": [
    {
     "data": {
      "text/plain": [
       "20"
      ]
     },
     "execution_count": 11,
     "metadata": {},
     "output_type": "execute_result"
    }
   ],
   "source": [
    "fw.write('Hello World Python!\\n')  # 실행하면 문자의 길이가 나옴"
   ]
  },
  {
   "cell_type": "code",
   "execution_count": 12,
   "id": "8273ea09-37fe-40c7-9c3e-121bdfdf9521",
   "metadata": {},
   "outputs": [
    {
     "data": {
      "text/plain": [
       "24"
      ]
     },
     "execution_count": 12,
     "metadata": {},
     "output_type": "execute_result"
    }
   ],
   "source": [
    "fw.write('Welcom to Python World!\\n')"
   ]
  },
  {
   "cell_type": "code",
   "execution_count": 13,
   "id": "9d02f719-0c5c-4bcf-ae81-6723a1bb2c0d",
   "metadata": {},
   "outputs": [],
   "source": [
    "fw.close()"
   ]
  },
  {
   "cell_type": "code",
   "execution_count": null,
   "id": "5bacfd5e-b025-4ae0-aa78-ae6de027c8d4",
   "metadata": {},
   "outputs": [],
   "source": []
  },
  {
   "cell_type": "markdown",
   "id": "c02a1491-24c5-4ad5-9ba3-41a578073315",
   "metadata": {},
   "source": [
    "### x 모드"
   ]
  },
  {
   "cell_type": "code",
   "execution_count": 14,
   "id": "bdd7c140-ad6b-4ee9-8088-d0168b94508d",
   "metadata": {},
   "outputs": [
    {
     "ename": "FileExistsError",
     "evalue": "[Errno 17] File exists: './12-2. hello_write.txt'",
     "output_type": "error",
     "traceback": [
      "\u001b[1;31m---------------------------------------------------------------------------\u001b[0m",
      "\u001b[1;31mFileExistsError\u001b[0m                           Traceback (most recent call last)",
      "\u001b[1;32m<ipython-input-14-c3f4a4f7b892>\u001b[0m in \u001b[0;36m<module>\u001b[1;34m\u001b[0m\n\u001b[1;32m----> 1\u001b[1;33m \u001b[1;32mwith\u001b[0m \u001b[0mopen\u001b[0m\u001b[1;33m(\u001b[0m\u001b[1;34m'./12-2. hello_write.txt'\u001b[0m\u001b[1;33m,\u001b[0m \u001b[1;34m'x'\u001b[0m\u001b[1;33m)\u001b[0m \u001b[1;32mas\u001b[0m \u001b[0mfw\u001b[0m\u001b[1;33m:\u001b[0m\u001b[1;33m\u001b[0m\u001b[1;33m\u001b[0m\u001b[0m\n\u001b[0m\u001b[0;32m      2\u001b[0m     \u001b[0mfw\u001b[0m\u001b[1;33m.\u001b[0m\u001b[0mwrite\u001b[0m\u001b[1;33m(\u001b[0m\u001b[1;34m'Hello World Python!\\n'\u001b[0m\u001b[1;33m)\u001b[0m\u001b[1;33m\u001b[0m\u001b[1;33m\u001b[0m\u001b[0m\n\u001b[0;32m      3\u001b[0m     \u001b[0mfw\u001b[0m\u001b[1;33m.\u001b[0m\u001b[0mwrite\u001b[0m\u001b[1;33m(\u001b[0m\u001b[1;34m'Welcom to Python World!\\n'\u001b[0m\u001b[1;33m)\u001b[0m\u001b[1;33m\u001b[0m\u001b[1;33m\u001b[0m\u001b[0m\n",
      "\u001b[1;31mFileExistsError\u001b[0m: [Errno 17] File exists: './12-2. hello_write.txt'"
     ]
    }
   ],
   "source": [
    "with open('./12-2. hello_write.txt', 'x') as fw:\n",
    "    fw.write('Hello World Python!\\n')\n",
    "    fw.write('Welcom to Python World!\\n')"
   ]
  },
  {
   "cell_type": "code",
   "execution_count": null,
   "id": "cdee10bd-f345-481b-aa7d-1f1c92b0a03d",
   "metadata": {},
   "outputs": [],
   "source": []
  },
  {
   "cell_type": "markdown",
   "id": "fd021850-7e90-4c8e-9523-d781ad13b888",
   "metadata": {},
   "source": [
    "### a 모드"
   ]
  },
  {
   "cell_type": "code",
   "execution_count": 15,
   "id": "fbc44049-741e-4805-a916-7e55606ea1b1",
   "metadata": {},
   "outputs": [],
   "source": [
    "with open('./12-2. hello_write.txt', 'a') as fw:\n",
    "    fw.write('New line append!')"
   ]
  },
  {
   "cell_type": "code",
   "execution_count": null,
   "id": "0f5055d4-1981-43ef-a7e3-4e2c65d19a7d",
   "metadata": {},
   "outputs": [],
   "source": []
  }
 ],
 "metadata": {
  "kernelspec": {
   "display_name": "Python 3",
   "language": "python",
   "name": "python3"
  },
  "language_info": {
   "codemirror_mode": {
    "name": "ipython",
    "version": 3
   },
   "file_extension": ".py",
   "mimetype": "text/x-python",
   "name": "python",
   "nbconvert_exporter": "python",
   "pygments_lexer": "ipython3",
   "version": "3.8.8"
  }
 },
 "nbformat": 4,
 "nbformat_minor": 5
}
