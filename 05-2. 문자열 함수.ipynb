{
 "cells": [
  {
   "cell_type": "code",
   "execution_count": 1,
   "id": "536151f8-c567-4fd2-bf8d-163b918b65ab",
   "metadata": {},
   "outputs": [],
   "source": [
    "# 53"
   ]
  },
  {
   "cell_type": "markdown",
   "id": "65692865-9461-4d19-8ee2-01d52d8346d0",
   "metadata": {},
   "source": [
    "### len() 함수"
   ]
  },
  {
   "cell_type": "code",
   "execution_count": 1,
   "id": "1500a92c-d585-4fd6-be04-fd6eee5a7652",
   "metadata": {},
   "outputs": [
    {
     "data": {
      "text/plain": [
       "16"
      ]
     },
     "execution_count": 1,
     "metadata": {},
     "output_type": "execute_result"
    }
   ],
   "source": [
    "len('HelloWorldPython')"
   ]
  },
  {
   "cell_type": "markdown",
   "id": "2511f9f1-4796-4295-b640-dfcd50741e1c",
   "metadata": {},
   "source": [
    "# 파이썬 문자열 함수 표기 유형\n",
    "- 문자.함수명(문자열)\n",
    "- 문자열.함수명(문자)\n",
    "- 문자열.함수명(문자열)"
   ]
  },
  {
   "cell_type": "markdown",
   "id": "ad8076e5-7ead-4f01-bb0e-0b28d1d5c685",
   "metadata": {},
   "source": [
    "### join() 함수\n",
    "- 지정된 문자로 문자열을 연결"
   ]
  },
  {
   "cell_type": "code",
   "execution_count": 2,
   "id": "6cdf1474-4967-4592-9c56-0218b892d099",
   "metadata": {},
   "outputs": [
    {
     "data": {
      "text/plain": [
       "'H-e-l-l-o-W-o-r-l-d-P-y-t-h-o-n'"
      ]
     },
     "execution_count": 2,
     "metadata": {},
     "output_type": "execute_result"
    }
   ],
   "source": [
    "'-'.join('HelloWorldPython')"
   ]
  },
  {
   "cell_type": "code",
   "execution_count": 3,
   "id": "9ab42f2d-a2e5-4b19-ac9c-dc5b964cae7b",
   "metadata": {},
   "outputs": [
    {
     "data": {
      "text/plain": [
       "'1-2-3-4-5'"
      ]
     },
     "execution_count": 3,
     "metadata": {},
     "output_type": "execute_result"
    }
   ],
   "source": [
    "'-'.join('12345')"
   ]
  },
  {
   "cell_type": "markdown",
   "id": "7d4cb59f-a55e-470b-87be-e8773c9d5ef8",
   "metadata": {},
   "source": [
    "### split() 함수\n",
    "- 지정된 문자로 문자열을 분할하여 리스트로 반환"
   ]
  },
  {
   "cell_type": "code",
   "execution_count": 4,
   "id": "397c6eae-a334-4164-be44-8b3be0c0b5c3",
   "metadata": {},
   "outputs": [
    {
     "data": {
      "text/plain": [
       "['Hello', 'World', 'Python']"
      ]
     },
     "execution_count": 4,
     "metadata": {},
     "output_type": "execute_result"
    }
   ],
   "source": [
    "'Hello-World-Python'.split('-')"
   ]
  },
  {
   "cell_type": "code",
   "execution_count": 5,
   "id": "8b1b2207-64c2-4f37-beb2-91a96cffb05b",
   "metadata": {},
   "outputs": [
    {
     "data": {
      "text/plain": [
       "['서울시', '마포구', '상암동', '1585']"
      ]
     },
     "execution_count": 5,
     "metadata": {},
     "output_type": "execute_result"
    }
   ],
   "source": [
    "'서울시 마포구 상암동 1585'.split()"
   ]
  },
  {
   "cell_type": "markdown",
   "id": "fb4d4576-b281-4623-a627-88153263d47e",
   "metadata": {},
   "source": [
    "### strip() 함수\n",
    "- 지정된 문자를 문자열로부터 제거\n",
    "- 아무것도 지정하지 않으면 기본적으로 공백을 제거\n",
    "- 공백을 제거할 때 문자열 사이사이의 띄어쓰기는 제거하지 않음\n",
    "- \\t 와 \\n 도 공백으로 인식함"
   ]
  },
  {
   "cell_type": "code",
   "execution_count": 6,
   "id": "8ae43980-1307-446d-a520-a9b1781c9edd",
   "metadata": {},
   "outputs": [
    {
     "data": {
      "text/plain": [
       "'문자열 정리'"
      ]
     },
     "execution_count": 6,
     "metadata": {},
     "output_type": "execute_result"
    }
   ],
   "source": [
    "text = '\\t 문자열 정리  \\n'\n",
    "text.strip()"
   ]
  },
  {
   "cell_type": "markdown",
   "id": "d90c4151-7c29-427a-b643-0385d0af665a",
   "metadata": {},
   "source": [
    "### replace() 함수\n",
    "- 지정된 문자를 다른 문자로 대체"
   ]
  },
  {
   "cell_type": "code",
   "execution_count": 7,
   "id": "0867cc73-3509-463f-bccc-892c16280cb5",
   "metadata": {},
   "outputs": [
    {
     "data": {
      "text/plain": [
       "'2016-08-30'"
      ]
     },
     "execution_count": 7,
     "metadata": {},
     "output_type": "execute_result"
    }
   ],
   "source": [
    "생일 = '2016/08/30'\n",
    "생일.replace('/', '-')"
   ]
  },
  {
   "cell_type": "markdown",
   "id": "840e1906-d97d-4ff8-88cc-cca7ffcf7304",
   "metadata": {},
   "source": [
    "### startswith() & endswith() 함수\n",
    "- 특정 문자열로 시작&종료 여부 검사. bool 자료형(True/False)으로 반환\n",
    "- 대소문자를 구분함"
   ]
  },
  {
   "cell_type": "code",
   "execution_count": 8,
   "id": "fd73f2f2-4ede-4d4f-a292-dcde54272046",
   "metadata": {},
   "outputs": [
    {
     "data": {
      "text/plain": [
       "True"
      ]
     },
     "execution_count": 8,
     "metadata": {},
     "output_type": "execute_result"
    }
   ],
   "source": [
    "'Hello World Python'.startswith('Hello')"
   ]
  },
  {
   "cell_type": "code",
   "execution_count": 9,
   "id": "3c95e518-b7e5-4342-82c3-c75b5fd0f27c",
   "metadata": {},
   "outputs": [
    {
     "data": {
      "text/plain": [
       "False"
      ]
     },
     "execution_count": 9,
     "metadata": {},
     "output_type": "execute_result"
    }
   ],
   "source": [
    "'Hello World Python'.startswith('hello')"
   ]
  },
  {
   "cell_type": "code",
   "execution_count": 10,
   "id": "c1b39905-d196-480f-ae5d-6f7661cde67b",
   "metadata": {},
   "outputs": [
    {
     "data": {
      "text/plain": [
       "True"
      ]
     },
     "execution_count": 10,
     "metadata": {},
     "output_type": "execute_result"
    }
   ],
   "source": [
    "'Hello World Python'.endswith('Python')"
   ]
  },
  {
   "cell_type": "code",
   "execution_count": 11,
   "id": "f7809770-4605-41a5-912e-55dbd4e8dcc3",
   "metadata": {},
   "outputs": [
    {
     "data": {
      "text/plain": [
       "False"
      ]
     },
     "execution_count": 11,
     "metadata": {},
     "output_type": "execute_result"
    }
   ],
   "source": [
    "'Hello World Python'.endswith('python')"
   ]
  },
  {
   "cell_type": "markdown",
   "id": "0b387d99-3e31-4690-b51d-ddd54b5a92e9",
   "metadata": {},
   "source": [
    "### count() 함수\n",
    "- 문자열 내 지정된 문자의 갯수"
   ]
  },
  {
   "cell_type": "code",
   "execution_count": 12,
   "id": "18bc0d0f-ff27-487c-964b-238108e12daa",
   "metadata": {},
   "outputs": [
    {
     "data": {
      "text/plain": [
       "3"
      ]
     },
     "execution_count": 12,
     "metadata": {},
     "output_type": "execute_result"
    }
   ],
   "source": [
    "text = 'Hello World Python'\n",
    "text.count('o')"
   ]
  },
  {
   "cell_type": "code",
   "execution_count": 13,
   "id": "d2af093a-84b5-4c95-9ad4-431a3de30441",
   "metadata": {},
   "outputs": [
    {
     "data": {
      "text/plain": [
       "2"
      ]
     },
     "execution_count": 13,
     "metadata": {},
     "output_type": "execute_result"
    }
   ],
   "source": [
    "text = 'Hello World Python, Welcome to Python World'\n",
    "text.count('Python')"
   ]
  },
  {
   "cell_type": "markdown",
   "id": "4b21eaea-e1c1-4d18-891f-a2ab522b4813",
   "metadata": {},
   "source": [
    "### index() & find() 함수\n",
    "- 문자열 내 지정된 문자 & 문자열 위치 인덱스"
   ]
  },
  {
   "cell_type": "code",
   "execution_count": 17,
   "id": "811fc458-eb1a-4b04-b5e5-925a1c819942",
   "metadata": {},
   "outputs": [],
   "source": [
    "text = 'Hello World Python, Welcome to Python World'"
   ]
  },
  {
   "cell_type": "code",
   "execution_count": 18,
   "id": "33aa09c4-188f-4c21-8091-c799eff26de2",
   "metadata": {},
   "outputs": [
    {
     "data": {
      "text/plain": [
       "4"
      ]
     },
     "execution_count": 18,
     "metadata": {},
     "output_type": "execute_result"
    }
   ],
   "source": [
    "text.index('o')"
   ]
  },
  {
   "cell_type": "code",
   "execution_count": 19,
   "id": "1afd341e-7cff-47ef-afde-cf796d9a4034",
   "metadata": {},
   "outputs": [
    {
     "data": {
      "text/plain": [
       "7"
      ]
     },
     "execution_count": 19,
     "metadata": {},
     "output_type": "execute_result"
    }
   ],
   "source": [
    "text.index('o', 5)  # 5번째 이후부터 찾기. 카운트는 처음부터 함."
   ]
  },
  {
   "cell_type": "code",
   "execution_count": 20,
   "id": "551507a3-0e94-47cb-8f48-7ecc28208271",
   "metadata": {},
   "outputs": [
    {
     "data": {
      "text/plain": [
       "12"
      ]
     },
     "execution_count": 20,
     "metadata": {},
     "output_type": "execute_result"
    }
   ],
   "source": [
    "text.find('Python')"
   ]
  },
  {
   "cell_type": "code",
   "execution_count": 21,
   "id": "beafc9c7-e544-4210-9a2f-e46b2005aa8d",
   "metadata": {},
   "outputs": [
    {
     "data": {
      "text/plain": [
       "31"
      ]
     },
     "execution_count": 21,
     "metadata": {},
     "output_type": "execute_result"
    }
   ],
   "source": [
    "text.find('Python', 20)"
   ]
  },
  {
   "cell_type": "markdown",
   "id": "93a84241-84ba-4583-a19e-9b49b993d7e9",
   "metadata": {},
   "source": [
    "### capitalize() & lower() & upper() 함수\n",
    "- 첫 글자만 대문자 & 전부 소문자 & 전부 대문자"
   ]
  },
  {
   "cell_type": "code",
   "execution_count": 23,
   "id": "44b4a0f0-475e-4183-acb9-89ba8e44cba3",
   "metadata": {},
   "outputs": [
    {
     "data": {
      "text/plain": [
       "'Hello world python'"
      ]
     },
     "execution_count": 23,
     "metadata": {},
     "output_type": "execute_result"
    }
   ],
   "source": [
    "'Hello World Python'.capitalize()"
   ]
  },
  {
   "cell_type": "code",
   "execution_count": 24,
   "id": "ac8d2673-29fa-4598-8b68-69f53c9b32b5",
   "metadata": {},
   "outputs": [
    {
     "data": {
      "text/plain": [
       "'hello world python'"
      ]
     },
     "execution_count": 24,
     "metadata": {},
     "output_type": "execute_result"
    }
   ],
   "source": [
    "'Hello World Python'.lower()"
   ]
  },
  {
   "cell_type": "code",
   "execution_count": 25,
   "id": "b40e03aa-409e-40ba-881f-2d627f848a6c",
   "metadata": {},
   "outputs": [
    {
     "data": {
      "text/plain": [
       "'HELLO WORLD PYTHON'"
      ]
     },
     "execution_count": 25,
     "metadata": {},
     "output_type": "execute_result"
    }
   ],
   "source": [
    "'Hello World Python'.upper()"
   ]
  },
  {
   "cell_type": "markdown",
   "id": "51201029-c8e9-495c-abc5-0b13816b7b1d",
   "metadata": {},
   "source": [
    "### 문자열 in 연산자\n",
    "- 문자열 내에 지정된 문자열이 포함되어 있는가? (True / False 로 반환)"
   ]
  },
  {
   "cell_type": "code",
   "execution_count": 26,
   "id": "c13934b1-4841-477c-84cf-e193528d5df8",
   "metadata": {},
   "outputs": [
    {
     "data": {
      "text/plain": [
       "True"
      ]
     },
     "execution_count": 26,
     "metadata": {},
     "output_type": "execute_result"
    }
   ],
   "source": [
    "'Python' in 'Hello World Python'"
   ]
  },
  {
   "cell_type": "code",
   "execution_count": 27,
   "id": "59c756ae-860b-4736-a63c-81f3d3b6ea3f",
   "metadata": {},
   "outputs": [
    {
     "data": {
      "text/plain": [
       "False"
      ]
     },
     "execution_count": 27,
     "metadata": {},
     "output_type": "execute_result"
    }
   ],
   "source": [
    "'Java' in 'Hello World Python'"
   ]
  },
  {
   "cell_type": "code",
   "execution_count": 29,
   "id": "8f34feb6-d367-4412-9b61-b05ce611193c",
   "metadata": {},
   "outputs": [
    {
     "data": {
      "text/plain": [
       "False"
      ]
     },
     "execution_count": 29,
     "metadata": {},
     "output_type": "execute_result"
    }
   ],
   "source": [
    "'Python' not in 'Hello World Python'"
   ]
  }
 ],
 "metadata": {
  "kernelspec": {
   "display_name": "Python 3",
   "language": "python",
   "name": "python3"
  },
  "language_info": {
   "codemirror_mode": {
    "name": "ipython",
    "version": 3
   },
   "file_extension": ".py",
   "mimetype": "text/x-python",
   "name": "python",
   "nbconvert_exporter": "python",
   "pygments_lexer": "ipython3",
   "version": "3.8.8"
  }
 },
 "nbformat": 4,
 "nbformat_minor": 5
}
